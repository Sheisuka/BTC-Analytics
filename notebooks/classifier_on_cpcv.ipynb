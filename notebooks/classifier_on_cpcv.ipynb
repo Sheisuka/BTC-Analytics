{
  "nbformat": 4,
  "nbformat_minor": 0,
  "metadata": {
    "colab": {
      "provenance": []
    },
    "kernelspec": {
      "name": "python3",
      "display_name": "Python 3"
    },
    "language_info": {
      "name": "python"
    }
  },
  "cells": [
    {
      "cell_type": "code",
      "execution_count": 1,
      "metadata": {
        "id": "dL2vb7ZJLKs0"
      },
      "outputs": [],
      "source": [
        "import matplotlib.pyplot as plt\n",
        "import numpy as np\n",
        "import pandas as pd\n",
        "from itertools import combinations\n",
        "import itertools as itt"
      ]
    },
    {
      "cell_type": "code",
      "source": [
        "data = pd.read_csv(\"https://raw.githubusercontent.com/Sheisuka/BTC-Analytics/refs/heads/main/data/stage/btc.csv\", parse_dates=[\"date\"]).set_index(\"date\")\n",
        "data.head()"
      ],
      "metadata": {
        "colab": {
          "base_uri": "https://localhost:8080/",
          "height": 238
        },
        "id": "-TWUZR41kd7f",
        "outputId": "70156cc5-1bb5-4405-b8c0-bacf66561d0f"
      },
      "execution_count": 5,
      "outputs": [
        {
          "output_type": "execute_result",
          "data": {
            "text/plain": [
              "                 open      close       high        low        volume  \\\n",
              "date                                                                   \n",
              "2013-01-02  13.355639  13.294495  13.423249  13.239912  20396.872342   \n",
              "2013-01-03  13.294495  13.425451  13.456261  13.268130  19832.397705   \n",
              "2013-01-04  13.425451  13.516544  13.523501  13.273098  35242.869825   \n",
              "2013-01-05  13.516544  13.442503  13.542806  13.300288  26589.448314   \n",
              "2013-01-06  13.442503  13.518296  13.528731  13.353631  15546.254699   \n",
              "\n",
              "               volume_usd  \n",
              "date                       \n",
              "2013-01-02  271955.356139  \n",
              "2013-01-03  264748.290624  \n",
              "2013-01-04  473173.322612  \n",
              "2013-01-05  356979.562481  \n",
              "2013-01-06  209099.388365  "
            ],
            "text/html": [
              "\n",
              "  <div id=\"df-addb356e-af07-47ad-983a-f9c6dab1041b\" class=\"colab-df-container\">\n",
              "    <div>\n",
              "<style scoped>\n",
              "    .dataframe tbody tr th:only-of-type {\n",
              "        vertical-align: middle;\n",
              "    }\n",
              "\n",
              "    .dataframe tbody tr th {\n",
              "        vertical-align: top;\n",
              "    }\n",
              "\n",
              "    .dataframe thead th {\n",
              "        text-align: right;\n",
              "    }\n",
              "</style>\n",
              "<table border=\"1\" class=\"dataframe\">\n",
              "  <thead>\n",
              "    <tr style=\"text-align: right;\">\n",
              "      <th></th>\n",
              "      <th>open</th>\n",
              "      <th>close</th>\n",
              "      <th>high</th>\n",
              "      <th>low</th>\n",
              "      <th>volume</th>\n",
              "      <th>volume_usd</th>\n",
              "    </tr>\n",
              "    <tr>\n",
              "      <th>date</th>\n",
              "      <th></th>\n",
              "      <th></th>\n",
              "      <th></th>\n",
              "      <th></th>\n",
              "      <th></th>\n",
              "      <th></th>\n",
              "    </tr>\n",
              "  </thead>\n",
              "  <tbody>\n",
              "    <tr>\n",
              "      <th>2013-01-02</th>\n",
              "      <td>13.355639</td>\n",
              "      <td>13.294495</td>\n",
              "      <td>13.423249</td>\n",
              "      <td>13.239912</td>\n",
              "      <td>20396.872342</td>\n",
              "      <td>271955.356139</td>\n",
              "    </tr>\n",
              "    <tr>\n",
              "      <th>2013-01-03</th>\n",
              "      <td>13.294495</td>\n",
              "      <td>13.425451</td>\n",
              "      <td>13.456261</td>\n",
              "      <td>13.268130</td>\n",
              "      <td>19832.397705</td>\n",
              "      <td>264748.290624</td>\n",
              "    </tr>\n",
              "    <tr>\n",
              "      <th>2013-01-04</th>\n",
              "      <td>13.425451</td>\n",
              "      <td>13.516544</td>\n",
              "      <td>13.523501</td>\n",
              "      <td>13.273098</td>\n",
              "      <td>35242.869825</td>\n",
              "      <td>473173.322612</td>\n",
              "    </tr>\n",
              "    <tr>\n",
              "      <th>2013-01-05</th>\n",
              "      <td>13.516544</td>\n",
              "      <td>13.442503</td>\n",
              "      <td>13.542806</td>\n",
              "      <td>13.300288</td>\n",
              "      <td>26589.448314</td>\n",
              "      <td>356979.562481</td>\n",
              "    </tr>\n",
              "    <tr>\n",
              "      <th>2013-01-06</th>\n",
              "      <td>13.442503</td>\n",
              "      <td>13.518296</td>\n",
              "      <td>13.528731</td>\n",
              "      <td>13.353631</td>\n",
              "      <td>15546.254699</td>\n",
              "      <td>209099.388365</td>\n",
              "    </tr>\n",
              "  </tbody>\n",
              "</table>\n",
              "</div>\n",
              "    <div class=\"colab-df-buttons\">\n",
              "\n",
              "  <div class=\"colab-df-container\">\n",
              "    <button class=\"colab-df-convert\" onclick=\"convertToInteractive('df-addb356e-af07-47ad-983a-f9c6dab1041b')\"\n",
              "            title=\"Convert this dataframe to an interactive table.\"\n",
              "            style=\"display:none;\">\n",
              "\n",
              "  <svg xmlns=\"http://www.w3.org/2000/svg\" height=\"24px\" viewBox=\"0 -960 960 960\">\n",
              "    <path d=\"M120-120v-720h720v720H120Zm60-500h600v-160H180v160Zm220 220h160v-160H400v160Zm0 220h160v-160H400v160ZM180-400h160v-160H180v160Zm440 0h160v-160H620v160ZM180-180h160v-160H180v160Zm440 0h160v-160H620v160Z\"/>\n",
              "  </svg>\n",
              "    </button>\n",
              "\n",
              "  <style>\n",
              "    .colab-df-container {\n",
              "      display:flex;\n",
              "      gap: 12px;\n",
              "    }\n",
              "\n",
              "    .colab-df-convert {\n",
              "      background-color: #E8F0FE;\n",
              "      border: none;\n",
              "      border-radius: 50%;\n",
              "      cursor: pointer;\n",
              "      display: none;\n",
              "      fill: #1967D2;\n",
              "      height: 32px;\n",
              "      padding: 0 0 0 0;\n",
              "      width: 32px;\n",
              "    }\n",
              "\n",
              "    .colab-df-convert:hover {\n",
              "      background-color: #E2EBFA;\n",
              "      box-shadow: 0px 1px 2px rgba(60, 64, 67, 0.3), 0px 1px 3px 1px rgba(60, 64, 67, 0.15);\n",
              "      fill: #174EA6;\n",
              "    }\n",
              "\n",
              "    .colab-df-buttons div {\n",
              "      margin-bottom: 4px;\n",
              "    }\n",
              "\n",
              "    [theme=dark] .colab-df-convert {\n",
              "      background-color: #3B4455;\n",
              "      fill: #D2E3FC;\n",
              "    }\n",
              "\n",
              "    [theme=dark] .colab-df-convert:hover {\n",
              "      background-color: #434B5C;\n",
              "      box-shadow: 0px 1px 3px 1px rgba(0, 0, 0, 0.15);\n",
              "      filter: drop-shadow(0px 1px 2px rgba(0, 0, 0, 0.3));\n",
              "      fill: #FFFFFF;\n",
              "    }\n",
              "  </style>\n",
              "\n",
              "    <script>\n",
              "      const buttonEl =\n",
              "        document.querySelector('#df-addb356e-af07-47ad-983a-f9c6dab1041b button.colab-df-convert');\n",
              "      buttonEl.style.display =\n",
              "        google.colab.kernel.accessAllowed ? 'block' : 'none';\n",
              "\n",
              "      async function convertToInteractive(key) {\n",
              "        const element = document.querySelector('#df-addb356e-af07-47ad-983a-f9c6dab1041b');\n",
              "        const dataTable =\n",
              "          await google.colab.kernel.invokeFunction('convertToInteractive',\n",
              "                                                    [key], {});\n",
              "        if (!dataTable) return;\n",
              "\n",
              "        const docLinkHtml = 'Like what you see? Visit the ' +\n",
              "          '<a target=\"_blank\" href=https://colab.research.google.com/notebooks/data_table.ipynb>data table notebook</a>'\n",
              "          + ' to learn more about interactive tables.';\n",
              "        element.innerHTML = '';\n",
              "        dataTable['output_type'] = 'display_data';\n",
              "        await google.colab.output.renderOutput(dataTable, element);\n",
              "        const docLink = document.createElement('div');\n",
              "        docLink.innerHTML = docLinkHtml;\n",
              "        element.appendChild(docLink);\n",
              "      }\n",
              "    </script>\n",
              "  </div>\n",
              "\n",
              "\n",
              "    <div id=\"df-9d93463c-d0d2-44dd-9556-4bf2eed987c0\">\n",
              "      <button class=\"colab-df-quickchart\" onclick=\"quickchart('df-9d93463c-d0d2-44dd-9556-4bf2eed987c0')\"\n",
              "                title=\"Suggest charts\"\n",
              "                style=\"display:none;\">\n",
              "\n",
              "<svg xmlns=\"http://www.w3.org/2000/svg\" height=\"24px\"viewBox=\"0 0 24 24\"\n",
              "     width=\"24px\">\n",
              "    <g>\n",
              "        <path d=\"M19 3H5c-1.1 0-2 .9-2 2v14c0 1.1.9 2 2 2h14c1.1 0 2-.9 2-2V5c0-1.1-.9-2-2-2zM9 17H7v-7h2v7zm4 0h-2V7h2v10zm4 0h-2v-4h2v4z\"/>\n",
              "    </g>\n",
              "</svg>\n",
              "      </button>\n",
              "\n",
              "<style>\n",
              "  .colab-df-quickchart {\n",
              "      --bg-color: #E8F0FE;\n",
              "      --fill-color: #1967D2;\n",
              "      --hover-bg-color: #E2EBFA;\n",
              "      --hover-fill-color: #174EA6;\n",
              "      --disabled-fill-color: #AAA;\n",
              "      --disabled-bg-color: #DDD;\n",
              "  }\n",
              "\n",
              "  [theme=dark] .colab-df-quickchart {\n",
              "      --bg-color: #3B4455;\n",
              "      --fill-color: #D2E3FC;\n",
              "      --hover-bg-color: #434B5C;\n",
              "      --hover-fill-color: #FFFFFF;\n",
              "      --disabled-bg-color: #3B4455;\n",
              "      --disabled-fill-color: #666;\n",
              "  }\n",
              "\n",
              "  .colab-df-quickchart {\n",
              "    background-color: var(--bg-color);\n",
              "    border: none;\n",
              "    border-radius: 50%;\n",
              "    cursor: pointer;\n",
              "    display: none;\n",
              "    fill: var(--fill-color);\n",
              "    height: 32px;\n",
              "    padding: 0;\n",
              "    width: 32px;\n",
              "  }\n",
              "\n",
              "  .colab-df-quickchart:hover {\n",
              "    background-color: var(--hover-bg-color);\n",
              "    box-shadow: 0 1px 2px rgba(60, 64, 67, 0.3), 0 1px 3px 1px rgba(60, 64, 67, 0.15);\n",
              "    fill: var(--button-hover-fill-color);\n",
              "  }\n",
              "\n",
              "  .colab-df-quickchart-complete:disabled,\n",
              "  .colab-df-quickchart-complete:disabled:hover {\n",
              "    background-color: var(--disabled-bg-color);\n",
              "    fill: var(--disabled-fill-color);\n",
              "    box-shadow: none;\n",
              "  }\n",
              "\n",
              "  .colab-df-spinner {\n",
              "    border: 2px solid var(--fill-color);\n",
              "    border-color: transparent;\n",
              "    border-bottom-color: var(--fill-color);\n",
              "    animation:\n",
              "      spin 1s steps(1) infinite;\n",
              "  }\n",
              "\n",
              "  @keyframes spin {\n",
              "    0% {\n",
              "      border-color: transparent;\n",
              "      border-bottom-color: var(--fill-color);\n",
              "      border-left-color: var(--fill-color);\n",
              "    }\n",
              "    20% {\n",
              "      border-color: transparent;\n",
              "      border-left-color: var(--fill-color);\n",
              "      border-top-color: var(--fill-color);\n",
              "    }\n",
              "    30% {\n",
              "      border-color: transparent;\n",
              "      border-left-color: var(--fill-color);\n",
              "      border-top-color: var(--fill-color);\n",
              "      border-right-color: var(--fill-color);\n",
              "    }\n",
              "    40% {\n",
              "      border-color: transparent;\n",
              "      border-right-color: var(--fill-color);\n",
              "      border-top-color: var(--fill-color);\n",
              "    }\n",
              "    60% {\n",
              "      border-color: transparent;\n",
              "      border-right-color: var(--fill-color);\n",
              "    }\n",
              "    80% {\n",
              "      border-color: transparent;\n",
              "      border-right-color: var(--fill-color);\n",
              "      border-bottom-color: var(--fill-color);\n",
              "    }\n",
              "    90% {\n",
              "      border-color: transparent;\n",
              "      border-bottom-color: var(--fill-color);\n",
              "    }\n",
              "  }\n",
              "</style>\n",
              "\n",
              "      <script>\n",
              "        async function quickchart(key) {\n",
              "          const quickchartButtonEl =\n",
              "            document.querySelector('#' + key + ' button');\n",
              "          quickchartButtonEl.disabled = true;  // To prevent multiple clicks.\n",
              "          quickchartButtonEl.classList.add('colab-df-spinner');\n",
              "          try {\n",
              "            const charts = await google.colab.kernel.invokeFunction(\n",
              "                'suggestCharts', [key], {});\n",
              "          } catch (error) {\n",
              "            console.error('Error during call to suggestCharts:', error);\n",
              "          }\n",
              "          quickchartButtonEl.classList.remove('colab-df-spinner');\n",
              "          quickchartButtonEl.classList.add('colab-df-quickchart-complete');\n",
              "        }\n",
              "        (() => {\n",
              "          let quickchartButtonEl =\n",
              "            document.querySelector('#df-9d93463c-d0d2-44dd-9556-4bf2eed987c0 button');\n",
              "          quickchartButtonEl.style.display =\n",
              "            google.colab.kernel.accessAllowed ? 'block' : 'none';\n",
              "        })();\n",
              "      </script>\n",
              "    </div>\n",
              "\n",
              "    </div>\n",
              "  </div>\n"
            ],
            "application/vnd.google.colaboratory.intrinsic+json": {
              "type": "dataframe",
              "variable_name": "data",
              "summary": "{\n  \"name\": \"data\",\n  \"rows\": 4531,\n  \"fields\": [\n    {\n      \"column\": \"date\",\n      \"properties\": {\n        \"dtype\": \"date\",\n        \"min\": \"2013-01-02 00:00:00\",\n        \"max\": \"2025-05-29 00:00:00\",\n        \"num_unique_values\": 4531,\n        \"samples\": [\n          \"2019-08-04 00:00:00\",\n          \"2015-08-20 00:00:00\",\n          \"2022-02-17 00:00:00\"\n        ],\n        \"semantic_type\": \"\",\n        \"description\": \"\"\n      }\n    },\n    {\n      \"column\": \"open\",\n      \"properties\": {\n        \"dtype\": \"number\",\n        \"std\": 25299.28468303837,\n        \"min\": 13.2944949976478,\n        \"max\": 111695.395495789,\n        \"num_unique_values\": 4531,\n        \"samples\": [\n          10836.6555478624,\n          226.724132571822,\n          43911.7812747083\n        ],\n        \"semantic_type\": \"\",\n        \"description\": \"\"\n      }\n    },\n    {\n      \"column\": \"close\",\n      \"properties\": {\n        \"dtype\": \"number\",\n        \"std\": 25330.060193281424,\n        \"min\": 13.2944949976478,\n        \"max\": 111695.395495789,\n        \"num_unique_values\": 4531,\n        \"samples\": [\n          10944.8873631142,\n          235.72490930065,\n          40572.5787254018\n        ],\n        \"semantic_type\": \"\",\n        \"description\": \"\"\n      }\n    },\n    {\n      \"column\": \"high\",\n      \"properties\": {\n        \"dtype\": \"number\",\n        \"std\": 25821.84607020074,\n        \"min\": 13.42324867458,\n        \"max\": 111960.503547811,\n        \"num_unique_values\": 4528,\n        \"samples\": [\n          11025.067145213,\n          7386.08993170555,\n          233.127585568941\n        ],\n        \"semantic_type\": \"\",\n        \"description\": \"\"\n      }\n    },\n    {\n      \"column\": \"low\",\n      \"properties\": {\n        \"dtype\": \"number\",\n        \"std\": 24765.76089897208,\n        \"min\": 13.2399123606821,\n        \"max\": 109309.133851695,\n        \"num_unique_values\": 4531,\n        \"samples\": [\n          10570.7431094983,\n          226.724132571822,\n          40148.25706996\n        ],\n        \"semantic_type\": \"\",\n        \"description\": \"\"\n      }\n    },\n    {\n      \"column\": \"volume\",\n      \"properties\": {\n        \"dtype\": \"number\",\n        \"std\": 298458.76964297076,\n        \"min\": 1054.98286968,\n        \"max\": 3137128.59751114,\n        \"num_unique_values\": 4531,\n        \"samples\": [\n          321720.295134961,\n          62223.24388501,\n          298308.291262314\n        ],\n        \"semantic_type\": \"\",\n        \"description\": \"\"\n      }\n    },\n    {\n      \"column\": \"volume_usd\",\n      \"properties\": {\n        \"dtype\": \"number\",\n        \"std\": 10389474990.165007,\n        \"min\": 209099.388364965,\n        \"max\": 104765839628.711,\n        \"num_unique_values\": 4531,\n        \"samples\": [\n          3482403681.06733,\n          14544089.7369774,\n          12620986043.4502\n        ],\n        \"semantic_type\": \"\",\n        \"description\": \"\"\n      }\n    }\n  ]\n}"
            }
          },
          "metadata": {},
          "execution_count": 5
        }
      ]
    },
    {
      "cell_type": "code",
      "source": [
        "data.describe()"
      ],
      "metadata": {
        "colab": {
          "base_uri": "https://localhost:8080/",
          "height": 300
        },
        "id": "KsTkUpUjsD64",
        "outputId": "3528d433-c7d1-46bb-8adc-df7f0cdb40ab"
      },
      "execution_count": 6,
      "outputs": [
        {
          "output_type": "execute_result",
          "data": {
            "text/plain": [
              "                open          close           high            low  \\\n",
              "count    4531.000000    4531.000000    4531.000000    4531.000000   \n",
              "mean    19378.466473   19401.771824   19823.487131   18915.284291   \n",
              "std     25299.284683   25330.060193   25821.846070   24765.760899   \n",
              "min        13.294495      13.294495      13.423249      13.239912   \n",
              "25%       597.956980     598.916689     608.320248     584.331943   \n",
              "50%      7954.649924    7960.659911    8237.678966    7689.995949   \n",
              "75%     29824.334489   29839.775316   30408.630125   29211.163290   \n",
              "max    111695.395496  111695.395496  111960.503548  109309.133852   \n",
              "\n",
              "             volume    volume_usd  \n",
              "count  4.531000e+03  4.531000e+03  \n",
              "mean   2.974293e+05  7.514750e+09  \n",
              "std    2.984588e+05  1.038947e+10  \n",
              "min    1.054983e+03  2.090994e+05  \n",
              "25%    6.686250e+04  2.550681e+07  \n",
              "50%    2.398905e+05  2.607672e+09  \n",
              "75%    3.944102e+05  1.279212e+10  \n",
              "max    3.137129e+06  1.047658e+11  "
            ],
            "text/html": [
              "\n",
              "  <div id=\"df-0b371c01-5570-45e4-8226-f773cb870fee\" class=\"colab-df-container\">\n",
              "    <div>\n",
              "<style scoped>\n",
              "    .dataframe tbody tr th:only-of-type {\n",
              "        vertical-align: middle;\n",
              "    }\n",
              "\n",
              "    .dataframe tbody tr th {\n",
              "        vertical-align: top;\n",
              "    }\n",
              "\n",
              "    .dataframe thead th {\n",
              "        text-align: right;\n",
              "    }\n",
              "</style>\n",
              "<table border=\"1\" class=\"dataframe\">\n",
              "  <thead>\n",
              "    <tr style=\"text-align: right;\">\n",
              "      <th></th>\n",
              "      <th>open</th>\n",
              "      <th>close</th>\n",
              "      <th>high</th>\n",
              "      <th>low</th>\n",
              "      <th>volume</th>\n",
              "      <th>volume_usd</th>\n",
              "    </tr>\n",
              "  </thead>\n",
              "  <tbody>\n",
              "    <tr>\n",
              "      <th>count</th>\n",
              "      <td>4531.000000</td>\n",
              "      <td>4531.000000</td>\n",
              "      <td>4531.000000</td>\n",
              "      <td>4531.000000</td>\n",
              "      <td>4.531000e+03</td>\n",
              "      <td>4.531000e+03</td>\n",
              "    </tr>\n",
              "    <tr>\n",
              "      <th>mean</th>\n",
              "      <td>19378.466473</td>\n",
              "      <td>19401.771824</td>\n",
              "      <td>19823.487131</td>\n",
              "      <td>18915.284291</td>\n",
              "      <td>2.974293e+05</td>\n",
              "      <td>7.514750e+09</td>\n",
              "    </tr>\n",
              "    <tr>\n",
              "      <th>std</th>\n",
              "      <td>25299.284683</td>\n",
              "      <td>25330.060193</td>\n",
              "      <td>25821.846070</td>\n",
              "      <td>24765.760899</td>\n",
              "      <td>2.984588e+05</td>\n",
              "      <td>1.038947e+10</td>\n",
              "    </tr>\n",
              "    <tr>\n",
              "      <th>min</th>\n",
              "      <td>13.294495</td>\n",
              "      <td>13.294495</td>\n",
              "      <td>13.423249</td>\n",
              "      <td>13.239912</td>\n",
              "      <td>1.054983e+03</td>\n",
              "      <td>2.090994e+05</td>\n",
              "    </tr>\n",
              "    <tr>\n",
              "      <th>25%</th>\n",
              "      <td>597.956980</td>\n",
              "      <td>598.916689</td>\n",
              "      <td>608.320248</td>\n",
              "      <td>584.331943</td>\n",
              "      <td>6.686250e+04</td>\n",
              "      <td>2.550681e+07</td>\n",
              "    </tr>\n",
              "    <tr>\n",
              "      <th>50%</th>\n",
              "      <td>7954.649924</td>\n",
              "      <td>7960.659911</td>\n",
              "      <td>8237.678966</td>\n",
              "      <td>7689.995949</td>\n",
              "      <td>2.398905e+05</td>\n",
              "      <td>2.607672e+09</td>\n",
              "    </tr>\n",
              "    <tr>\n",
              "      <th>75%</th>\n",
              "      <td>29824.334489</td>\n",
              "      <td>29839.775316</td>\n",
              "      <td>30408.630125</td>\n",
              "      <td>29211.163290</td>\n",
              "      <td>3.944102e+05</td>\n",
              "      <td>1.279212e+10</td>\n",
              "    </tr>\n",
              "    <tr>\n",
              "      <th>max</th>\n",
              "      <td>111695.395496</td>\n",
              "      <td>111695.395496</td>\n",
              "      <td>111960.503548</td>\n",
              "      <td>109309.133852</td>\n",
              "      <td>3.137129e+06</td>\n",
              "      <td>1.047658e+11</td>\n",
              "    </tr>\n",
              "  </tbody>\n",
              "</table>\n",
              "</div>\n",
              "    <div class=\"colab-df-buttons\">\n",
              "\n",
              "  <div class=\"colab-df-container\">\n",
              "    <button class=\"colab-df-convert\" onclick=\"convertToInteractive('df-0b371c01-5570-45e4-8226-f773cb870fee')\"\n",
              "            title=\"Convert this dataframe to an interactive table.\"\n",
              "            style=\"display:none;\">\n",
              "\n",
              "  <svg xmlns=\"http://www.w3.org/2000/svg\" height=\"24px\" viewBox=\"0 -960 960 960\">\n",
              "    <path d=\"M120-120v-720h720v720H120Zm60-500h600v-160H180v160Zm220 220h160v-160H400v160Zm0 220h160v-160H400v160ZM180-400h160v-160H180v160Zm440 0h160v-160H620v160ZM180-180h160v-160H180v160Zm440 0h160v-160H620v160Z\"/>\n",
              "  </svg>\n",
              "    </button>\n",
              "\n",
              "  <style>\n",
              "    .colab-df-container {\n",
              "      display:flex;\n",
              "      gap: 12px;\n",
              "    }\n",
              "\n",
              "    .colab-df-convert {\n",
              "      background-color: #E8F0FE;\n",
              "      border: none;\n",
              "      border-radius: 50%;\n",
              "      cursor: pointer;\n",
              "      display: none;\n",
              "      fill: #1967D2;\n",
              "      height: 32px;\n",
              "      padding: 0 0 0 0;\n",
              "      width: 32px;\n",
              "    }\n",
              "\n",
              "    .colab-df-convert:hover {\n",
              "      background-color: #E2EBFA;\n",
              "      box-shadow: 0px 1px 2px rgba(60, 64, 67, 0.3), 0px 1px 3px 1px rgba(60, 64, 67, 0.15);\n",
              "      fill: #174EA6;\n",
              "    }\n",
              "\n",
              "    .colab-df-buttons div {\n",
              "      margin-bottom: 4px;\n",
              "    }\n",
              "\n",
              "    [theme=dark] .colab-df-convert {\n",
              "      background-color: #3B4455;\n",
              "      fill: #D2E3FC;\n",
              "    }\n",
              "\n",
              "    [theme=dark] .colab-df-convert:hover {\n",
              "      background-color: #434B5C;\n",
              "      box-shadow: 0px 1px 3px 1px rgba(0, 0, 0, 0.15);\n",
              "      filter: drop-shadow(0px 1px 2px rgba(0, 0, 0, 0.3));\n",
              "      fill: #FFFFFF;\n",
              "    }\n",
              "  </style>\n",
              "\n",
              "    <script>\n",
              "      const buttonEl =\n",
              "        document.querySelector('#df-0b371c01-5570-45e4-8226-f773cb870fee button.colab-df-convert');\n",
              "      buttonEl.style.display =\n",
              "        google.colab.kernel.accessAllowed ? 'block' : 'none';\n",
              "\n",
              "      async function convertToInteractive(key) {\n",
              "        const element = document.querySelector('#df-0b371c01-5570-45e4-8226-f773cb870fee');\n",
              "        const dataTable =\n",
              "          await google.colab.kernel.invokeFunction('convertToInteractive',\n",
              "                                                    [key], {});\n",
              "        if (!dataTable) return;\n",
              "\n",
              "        const docLinkHtml = 'Like what you see? Visit the ' +\n",
              "          '<a target=\"_blank\" href=https://colab.research.google.com/notebooks/data_table.ipynb>data table notebook</a>'\n",
              "          + ' to learn more about interactive tables.';\n",
              "        element.innerHTML = '';\n",
              "        dataTable['output_type'] = 'display_data';\n",
              "        await google.colab.output.renderOutput(dataTable, element);\n",
              "        const docLink = document.createElement('div');\n",
              "        docLink.innerHTML = docLinkHtml;\n",
              "        element.appendChild(docLink);\n",
              "      }\n",
              "    </script>\n",
              "  </div>\n",
              "\n",
              "\n",
              "    <div id=\"df-bf953a75-d9ee-4e95-8a37-ca3f2d96cc81\">\n",
              "      <button class=\"colab-df-quickchart\" onclick=\"quickchart('df-bf953a75-d9ee-4e95-8a37-ca3f2d96cc81')\"\n",
              "                title=\"Suggest charts\"\n",
              "                style=\"display:none;\">\n",
              "\n",
              "<svg xmlns=\"http://www.w3.org/2000/svg\" height=\"24px\"viewBox=\"0 0 24 24\"\n",
              "     width=\"24px\">\n",
              "    <g>\n",
              "        <path d=\"M19 3H5c-1.1 0-2 .9-2 2v14c0 1.1.9 2 2 2h14c1.1 0 2-.9 2-2V5c0-1.1-.9-2-2-2zM9 17H7v-7h2v7zm4 0h-2V7h2v10zm4 0h-2v-4h2v4z\"/>\n",
              "    </g>\n",
              "</svg>\n",
              "      </button>\n",
              "\n",
              "<style>\n",
              "  .colab-df-quickchart {\n",
              "      --bg-color: #E8F0FE;\n",
              "      --fill-color: #1967D2;\n",
              "      --hover-bg-color: #E2EBFA;\n",
              "      --hover-fill-color: #174EA6;\n",
              "      --disabled-fill-color: #AAA;\n",
              "      --disabled-bg-color: #DDD;\n",
              "  }\n",
              "\n",
              "  [theme=dark] .colab-df-quickchart {\n",
              "      --bg-color: #3B4455;\n",
              "      --fill-color: #D2E3FC;\n",
              "      --hover-bg-color: #434B5C;\n",
              "      --hover-fill-color: #FFFFFF;\n",
              "      --disabled-bg-color: #3B4455;\n",
              "      --disabled-fill-color: #666;\n",
              "  }\n",
              "\n",
              "  .colab-df-quickchart {\n",
              "    background-color: var(--bg-color);\n",
              "    border: none;\n",
              "    border-radius: 50%;\n",
              "    cursor: pointer;\n",
              "    display: none;\n",
              "    fill: var(--fill-color);\n",
              "    height: 32px;\n",
              "    padding: 0;\n",
              "    width: 32px;\n",
              "  }\n",
              "\n",
              "  .colab-df-quickchart:hover {\n",
              "    background-color: var(--hover-bg-color);\n",
              "    box-shadow: 0 1px 2px rgba(60, 64, 67, 0.3), 0 1px 3px 1px rgba(60, 64, 67, 0.15);\n",
              "    fill: var(--button-hover-fill-color);\n",
              "  }\n",
              "\n",
              "  .colab-df-quickchart-complete:disabled,\n",
              "  .colab-df-quickchart-complete:disabled:hover {\n",
              "    background-color: var(--disabled-bg-color);\n",
              "    fill: var(--disabled-fill-color);\n",
              "    box-shadow: none;\n",
              "  }\n",
              "\n",
              "  .colab-df-spinner {\n",
              "    border: 2px solid var(--fill-color);\n",
              "    border-color: transparent;\n",
              "    border-bottom-color: var(--fill-color);\n",
              "    animation:\n",
              "      spin 1s steps(1) infinite;\n",
              "  }\n",
              "\n",
              "  @keyframes spin {\n",
              "    0% {\n",
              "      border-color: transparent;\n",
              "      border-bottom-color: var(--fill-color);\n",
              "      border-left-color: var(--fill-color);\n",
              "    }\n",
              "    20% {\n",
              "      border-color: transparent;\n",
              "      border-left-color: var(--fill-color);\n",
              "      border-top-color: var(--fill-color);\n",
              "    }\n",
              "    30% {\n",
              "      border-color: transparent;\n",
              "      border-left-color: var(--fill-color);\n",
              "      border-top-color: var(--fill-color);\n",
              "      border-right-color: var(--fill-color);\n",
              "    }\n",
              "    40% {\n",
              "      border-color: transparent;\n",
              "      border-right-color: var(--fill-color);\n",
              "      border-top-color: var(--fill-color);\n",
              "    }\n",
              "    60% {\n",
              "      border-color: transparent;\n",
              "      border-right-color: var(--fill-color);\n",
              "    }\n",
              "    80% {\n",
              "      border-color: transparent;\n",
              "      border-right-color: var(--fill-color);\n",
              "      border-bottom-color: var(--fill-color);\n",
              "    }\n",
              "    90% {\n",
              "      border-color: transparent;\n",
              "      border-bottom-color: var(--fill-color);\n",
              "    }\n",
              "  }\n",
              "</style>\n",
              "\n",
              "      <script>\n",
              "        async function quickchart(key) {\n",
              "          const quickchartButtonEl =\n",
              "            document.querySelector('#' + key + ' button');\n",
              "          quickchartButtonEl.disabled = true;  // To prevent multiple clicks.\n",
              "          quickchartButtonEl.classList.add('colab-df-spinner');\n",
              "          try {\n",
              "            const charts = await google.colab.kernel.invokeFunction(\n",
              "                'suggestCharts', [key], {});\n",
              "          } catch (error) {\n",
              "            console.error('Error during call to suggestCharts:', error);\n",
              "          }\n",
              "          quickchartButtonEl.classList.remove('colab-df-spinner');\n",
              "          quickchartButtonEl.classList.add('colab-df-quickchart-complete');\n",
              "        }\n",
              "        (() => {\n",
              "          let quickchartButtonEl =\n",
              "            document.querySelector('#df-bf953a75-d9ee-4e95-8a37-ca3f2d96cc81 button');\n",
              "          quickchartButtonEl.style.display =\n",
              "            google.colab.kernel.accessAllowed ? 'block' : 'none';\n",
              "        })();\n",
              "      </script>\n",
              "    </div>\n",
              "\n",
              "    </div>\n",
              "  </div>\n"
            ],
            "application/vnd.google.colaboratory.intrinsic+json": {
              "type": "dataframe",
              "summary": "{\n  \"name\": \"data\",\n  \"rows\": 8,\n  \"fields\": [\n    {\n      \"column\": \"open\",\n      \"properties\": {\n        \"dtype\": \"number\",\n        \"std\": 36840.02840996101,\n        \"min\": 13.2944949976478,\n        \"max\": 111695.395495789,\n        \"num_unique_values\": 8,\n        \"samples\": [\n          19378.466473086377,\n          7954.64992358859,\n          4531.0\n        ],\n        \"semantic_type\": \"\",\n        \"description\": \"\"\n      }\n    },\n    {\n      \"column\": \"close\",\n      \"properties\": {\n        \"dtype\": \"number\",\n        \"std\": 36839.38505608538,\n        \"min\": 13.2944949976478,\n        \"max\": 111695.395495789,\n        \"num_unique_values\": 8,\n        \"samples\": [\n          19401.771824270676,\n          7960.65991147315,\n          4531.0\n        ],\n        \"semantic_type\": \"\",\n        \"description\": \"\"\n      }\n    },\n    {\n      \"column\": \"high\",\n      \"properties\": {\n        \"dtype\": \"number\",\n        \"std\": 36912.72696826213,\n        \"min\": 13.42324867458,\n        \"max\": 111960.503547811,\n        \"num_unique_values\": 8,\n        \"samples\": [\n          19823.487130898302,\n          8237.67896593318,\n          4531.0\n        ],\n        \"semantic_type\": \"\",\n        \"description\": \"\"\n      }\n    },\n    {\n      \"column\": \"low\",\n      \"properties\": {\n        \"dtype\": \"number\",\n        \"std\": 36053.17827478963,\n        \"min\": 13.2399123606821,\n        \"max\": 109309.133851695,\n        \"num_unique_values\": 8,\n        \"samples\": [\n          18915.28429119886,\n          7689.9959487121,\n          4531.0\n        ],\n        \"semantic_type\": \"\",\n        \"description\": \"\"\n      }\n    },\n    {\n      \"column\": \"volume\",\n      \"properties\": {\n        \"dtype\": \"number\",\n        \"std\": 1053753.608040224,\n        \"min\": 1054.98286968,\n        \"max\": 3137128.59751114,\n        \"num_unique_values\": 8,\n        \"samples\": [\n          297429.27818537335,\n          239890.479757003,\n          4531.0\n        ],\n        \"semantic_type\": \"\",\n        \"description\": \"\"\n      }\n    },\n    {\n      \"column\": \"volume_usd\",\n      \"properties\": {\n        \"dtype\": \"number\",\n        \"std\": 35711011028.66418,\n        \"min\": 4531.0,\n        \"max\": 104765839628.711,\n        \"num_unique_values\": 8,\n        \"samples\": [\n          7514750030.008679,\n          2607672424.8608,\n          4531.0\n        ],\n        \"semantic_type\": \"\",\n        \"description\": \"\"\n      }\n    }\n  ]\n}"
            }
          },
          "metadata": {},
          "execution_count": 6
        }
      ]
    },
    {
      "cell_type": "code",
      "source": [
        "plt.plot(data.index, data[\"volume\"])\n",
        "plt.show()"
      ],
      "metadata": {
        "colab": {
          "base_uri": "https://localhost:8080/",
          "height": 445
        },
        "id": "bS6lzJXLkrz4",
        "outputId": "445974e3-4ce4-43f5-f628-6ba1513c1a06"
      },
      "execution_count": 7,
      "outputs": [
        {
          "output_type": "display_data",
          "data": {
            "text/plain": [
              "<Figure size 640x480 with 1 Axes>"
            ],
            "image/png": "[encoded data removed]"
          },
          "metadata": {}
        }
      ]
    },
    {
      "cell_type": "code",
      "source": [
        "%pip install hurst"
      ],
      "metadata": {
        "colab": {
          "base_uri": "https://localhost:8080/"
        },
        "id": "iJNQhJdhmQLw",
        "outputId": "ee8a420f-1195-4ac4-cbf1-dece91b77f71"
      },
      "execution_count": 8,
      "outputs": [
        {
          "output_type": "stream",
          "name": "stdout",
          "text": [
            "Collecting hurst\n",
            "  Downloading hurst-0.0.5-py3-none-any.whl.metadata (3.6 kB)\n",
            "Requirement already satisfied: pandas>=0.18 in /usr/local/lib/python3.12/dist-packages (from hurst) (2.2.2)\n",
            "Requirement already satisfied: numpy>=1.10 in /usr/local/lib/python3.12/dist-packages (from hurst) (2.0.2)\n",
            "Requirement already satisfied: python-dateutil>=2.8.2 in /usr/local/lib/python3.12/dist-packages (from pandas>=0.18->hurst) (2.9.0.post0)\n",
            "Requirement already satisfied: pytz>=2020.1 in /usr/local/lib/python3.12/dist-packages (from pandas>=0.18->hurst) (2025.2)\n",
            "Requirement already satisfied: tzdata>=2022.7 in /usr/local/lib/python3.12/dist-packages (from pandas>=0.18->hurst) (2025.2)\n",
            "Requirement already satisfied: six>=1.5 in /usr/local/lib/python3.12/dist-packages (from python-dateutil>=2.8.2->pandas>=0.18->hurst) (1.17.0)\n",
            "Downloading hurst-0.0.5-py3-none-any.whl (5.9 kB)\n",
            "Installing collected packages: hurst\n",
            "Successfully installed hurst-0.0.5\n"
          ]
        }
      ]
    },
    {
      "cell_type": "code",
      "source": [
        "data['mom126'] = data['close'].pct_change(126)\n",
        "data['mom126'].plot()"
      ],
      "metadata": {
        "colab": {
          "base_uri": "https://localhost:8080/",
          "height": 467
        },
        "id": "sGQp_rMzmZGj",
        "outputId": "8af45b72-88e6-4c4b-f383-8d71a0abbbc4"
      },
      "execution_count": 9,
      "outputs": [
        {
          "output_type": "execute_result",
          "data": {
            "text/plain": [
              "<Axes: xlabel='date'>"
            ]
          },
          "metadata": {},
          "execution_count": 9
        },
        {
          "output_type": "display_data",
          "data": {
            "text/plain": [
              "<Figure size 640x480 with 1 Axes>"
            ],
            "image/png": "[encoded data removed]"
          },
          "metadata": {}
        }
      ]
    },
    {
      "cell_type": "code",
      "source": [
        "mask_pos = (data.mom126 >= 0.01)\n",
        "data['signal_mh'] = np.where(mask_pos, 1, 0)\n",
        "data['signal_mh'].value_counts()"
      ],
      "metadata": {
        "colab": {
          "base_uri": "https://localhost:8080/",
          "height": 178
        },
        "id": "FCc21v5uoBJh",
        "outputId": "a23fe043-6f91-4c73-8e86-01ced356494d"
      },
      "execution_count": 10,
      "outputs": [
        {
          "output_type": "execute_result",
          "data": {
            "text/plain": [
              "signal_mh\n",
              "1    2695\n",
              "0    1836\n",
              "Name: count, dtype: int64"
            ],
            "text/html": [
              "<div>\n",
              "<style scoped>\n",
              "    .dataframe tbody tr th:only-of-type {\n",
              "        vertical-align: middle;\n",
              "    }\n",
              "\n",
              "    .dataframe tbody tr th {\n",
              "        vertical-align: top;\n",
              "    }\n",
              "\n",
              "    .dataframe thead th {\n",
              "        text-align: right;\n",
              "    }\n",
              "</style>\n",
              "<table border=\"1\" class=\"dataframe\">\n",
              "  <thead>\n",
              "    <tr style=\"text-align: right;\">\n",
              "      <th></th>\n",
              "      <th>count</th>\n",
              "    </tr>\n",
              "    <tr>\n",
              "      <th>signal_mh</th>\n",
              "      <th></th>\n",
              "    </tr>\n",
              "  </thead>\n",
              "  <tbody>\n",
              "    <tr>\n",
              "      <th>1</th>\n",
              "      <td>2695</td>\n",
              "    </tr>\n",
              "    <tr>\n",
              "      <th>0</th>\n",
              "      <td>1836</td>\n",
              "    </tr>\n",
              "  </tbody>\n",
              "</table>\n",
              "</div><br><label><b>dtype:</b> int64</label>"
            ]
          },
          "metadata": {},
          "execution_count": 10
        }
      ]
    },
    {
      "cell_type": "code",
      "source": [
        "data['returns'] = data.close.shift(-21).pct_change(21)\n",
        "data['strategy_returns'] = data['returns'].mul(data.signal_mh)\n",
        "data['strategy_returns'].hist(bins=11)\n",
        "data = data.dropna()"
      ],
      "metadata": {
        "colab": {
          "base_uri": "https://localhost:8080/",
          "height": 486
        },
        "id": "_zKe8YhjpSLW",
        "outputId": "531437b2-8a85-44ae-b2f1-39ce5682a9ca"
      },
      "execution_count": 11,
      "outputs": [
        {
          "output_type": "stream",
          "name": "stderr",
          "text": [
            "/tmp/ipython-input-2253518319.py:1: FutureWarning: The default fill_method='pad' in Series.pct_change is deprecated and will be removed in a future version. Either fill in any non-leading NA values prior to calling pct_change or specify 'fill_method=None' to not fill NA values.\n",
            "  data['returns'] = data.close.shift(-21).pct_change(21)\n"
          ]
        },
        {
          "output_type": "display_data",
          "data": {
            "text/plain": [
              "<Figure size 640x480 with 1 Axes>"
            ],
            "image/png": "[encoded data removed]"
          },
          "metadata": {}
        }
      ]
    },
    {
      "cell_type": "code",
      "source": [
        "data['cumret'] = ((data['strategy_returns'] + 1.).cumprod() - 1)\n",
        "data['cumret'].plot(logy=True)"
      ],
      "metadata": {
        "colab": {
          "base_uri": "https://localhost:8080/",
          "height": 467
        },
        "id": "nFEquPkcqYlh",
        "outputId": "853f5168-960b-4e62-c0ec-2c527338b0d6"
      },
      "execution_count": 12,
      "outputs": [
        {
          "output_type": "execute_result",
          "data": {
            "text/plain": [
              "<Axes: xlabel='date'>"
            ]
          },
          "metadata": {},
          "execution_count": 12
        },
        {
          "output_type": "display_data",
          "data": {
            "text/plain": [
              "<Figure size 640x480 with 1 Axes>"
            ],
            "image/png": "[encoded data removed]"
          },
          "metadata": {}
        }
      ]
    },
    {
      "cell_type": "code",
      "source": [
        "!pip install pyfolio-reloaded"
      ],
      "metadata": {
        "colab": {
          "base_uri": "https://localhost:8080/"
        },
        "id": "KRv3HygKq6rF",
        "outputId": "287a40c0-a917-4e6f-f88f-55ac44d8c077"
      },
      "execution_count": 13,
      "outputs": [
        {
          "output_type": "stream",
          "name": "stdout",
          "text": [
            "Collecting pyfolio-reloaded\n",
            "  Downloading pyfolio_reloaded-0.9.9-py3-none-any.whl.metadata (19 kB)\n",
            "Requirement already satisfied: numpy>=1.26.0 in /usr/local/lib/python3.12/dist-packages (from pyfolio-reloaded) (2.0.2)\n",
            "Requirement already satisfied: pandas<3.0,>=1.5.0 in /usr/local/lib/python3.12/dist-packages (from pyfolio-reloaded) (2.2.2)\n",
            "Requirement already satisfied: ipython>=3.2.3 in /usr/local/lib/python3.12/dist-packages (from pyfolio-reloaded) (7.34.0)\n",
            "Requirement already satisfied: matplotlib>=1.4.0 in /usr/local/lib/python3.12/dist-packages (from pyfolio-reloaded) (3.10.0)\n",
            "Requirement already satisfied: pytz>=2014.10 in /usr/local/lib/python3.12/dist-packages (from pyfolio-reloaded) (2025.2)\n",
            "Requirement already satisfied: scipy>=0.14.0 in /usr/local/lib/python3.12/dist-packages (from pyfolio-reloaded) (1.16.2)\n",
            "Requirement already satisfied: scikit-learn>=0.16.1 in /usr/local/lib/python3.12/dist-packages (from pyfolio-reloaded) (1.6.1)\n",
            "Requirement already satisfied: seaborn>=0.7.1 in /usr/local/lib/python3.12/dist-packages (from pyfolio-reloaded) (0.13.2)\n",
            "Collecting empyrical-reloaded>=0.5.9 (from pyfolio-reloaded)\n",
            "  Downloading empyrical_reloaded-0.5.12-py3-none-any.whl.metadata (21 kB)\n",
            "Requirement already satisfied: bottleneck>=1.3.0 in /usr/local/lib/python3.12/dist-packages (from empyrical-reloaded>=0.5.9->pyfolio-reloaded) (1.4.2)\n",
            "Collecting peewee<3.17.4 (from empyrical-reloaded>=0.5.9->pyfolio-reloaded)\n",
            "  Downloading peewee-3.17.3.tar.gz (3.0 MB)\n",
            "\u001b[2K     \u001b[90m━━━━━━━━━━━━━━━━━━━━━━━━━━━━━━━━━━━━━━━━\u001b[0m \u001b[32m3.0/3.0 MB\u001b[0m \u001b[31m21.4 MB/s\u001b[0m eta \u001b[36m0:00:00\u001b[0m\n",
            "\u001b[?25h  Installing build dependencies ... \u001b[?25l\u001b[?25hdone\n",
            "  Getting requirements to build wheel ... \u001b[?25l\u001b[?25hdone\n",
            "  Preparing metadata (pyproject.toml) ... \u001b[?25l\u001b[?25hdone\n",
            "Requirement already satisfied: setuptools>=18.5 in /usr/local/lib/python3.12/dist-packages (from ipython>=3.2.3->pyfolio-reloaded) (75.2.0)\n",
            "Collecting jedi>=0.16 (from ipython>=3.2.3->pyfolio-reloaded)\n",
            "  Downloading jedi-0.19.2-py2.py3-none-any.whl.metadata (22 kB)\n",
            "Requirement already satisfied: decorator in /usr/local/lib/python3.12/dist-packages (from ipython>=3.2.3->pyfolio-reloaded) (4.4.2)\n",
            "Requirement already satisfied: pickleshare in /usr/local/lib/python3.12/dist-packages (from ipython>=3.2.3->pyfolio-reloaded) (0.7.5)\n",
            "Requirement already satisfied: traitlets>=4.2 in /usr/local/lib/python3.12/dist-packages (from ipython>=3.2.3->pyfolio-reloaded) (5.7.1)\n",
            "Requirement already satisfied: prompt-toolkit!=3.0.0,!=3.0.1,<3.1.0,>=2.0.0 in /usr/local/lib/python3.12/dist-packages (from ipython>=3.2.3->pyfolio-reloaded) (3.0.52)\n",
            "Requirement already satisfied: pygments in /usr/local/lib/python3.12/dist-packages (from ipython>=3.2.3->pyfolio-reloaded) (2.19.2)\n",
            "Requirement already satisfied: backcall in /usr/local/lib/python3.12/dist-packages (from ipython>=3.2.3->pyfolio-reloaded) (0.2.0)\n",
            "Requirement already satisfied: matplotlib-inline in /usr/local/lib/python3.12/dist-packages (from ipython>=3.2.3->pyfolio-reloaded) (0.1.7)\n",
            "Requirement already satisfied: pexpect>4.3 in /usr/local/lib/python3.12/dist-packages (from ipython>=3.2.3->pyfolio-reloaded) (4.9.0)\n",
            "Requirement already satisfied: contourpy>=1.0.1 in /usr/local/lib/python3.12/dist-packages (from matplotlib>=1.4.0->pyfolio-reloaded) (1.3.3)\n",
            "Requirement already satisfied: cycler>=0.10 in /usr/local/lib/python3.12/dist-packages (from matplotlib>=1.4.0->pyfolio-reloaded) (0.12.1)\n",
            "Requirement already satisfied: fonttools>=4.22.0 in /usr/local/lib/python3.12/dist-packages (from matplotlib>=1.4.0->pyfolio-reloaded) (4.60.1)\n",
            "Requirement already satisfied: kiwisolver>=1.3.1 in /usr/local/lib/python3.12/dist-packages (from matplotlib>=1.4.0->pyfolio-reloaded) (1.4.9)\n",
            "Requirement already satisfied: packaging>=20.0 in /usr/local/lib/python3.12/dist-packages (from matplotlib>=1.4.0->pyfolio-reloaded) (25.0)\n",
            "Requirement already satisfied: pillow>=8 in /usr/local/lib/python3.12/dist-packages (from matplotlib>=1.4.0->pyfolio-reloaded) (11.3.0)\n",
            "Requirement already satisfied: pyparsing>=2.3.1 in /usr/local/lib/python3.12/dist-packages (from matplotlib>=1.4.0->pyfolio-reloaded) (3.2.5)\n",
            "Requirement already satisfied: python-dateutil>=2.7 in /usr/local/lib/python3.12/dist-packages (from matplotlib>=1.4.0->pyfolio-reloaded) (2.9.0.post0)\n",
            "Requirement already satisfied: tzdata>=2022.7 in /usr/local/lib/python3.12/dist-packages (from pandas<3.0,>=1.5.0->pyfolio-reloaded) (2025.2)\n",
            "Requirement already satisfied: joblib>=1.2.0 in /usr/local/lib/python3.12/dist-packages (from scikit-learn>=0.16.1->pyfolio-reloaded) (1.5.2)\n",
            "Requirement already satisfied: threadpoolctl>=3.1.0 in /usr/local/lib/python3.12/dist-packages (from scikit-learn>=0.16.1->pyfolio-reloaded) (3.6.0)\n",
            "Requirement already satisfied: parso<0.9.0,>=0.8.4 in /usr/local/lib/python3.12/dist-packages (from jedi>=0.16->ipython>=3.2.3->pyfolio-reloaded) (0.8.5)\n",
            "Requirement already satisfied: ptyprocess>=0.5 in /usr/local/lib/python3.12/dist-packages (from pexpect>4.3->ipython>=3.2.3->pyfolio-reloaded) (0.7.0)\n",
            "Requirement already satisfied: wcwidth in /usr/local/lib/python3.12/dist-packages (from prompt-toolkit!=3.0.0,!=3.0.1,<3.1.0,>=2.0.0->ipython>=3.2.3->pyfolio-reloaded) (0.2.14)\n",
            "Requirement already satisfied: six>=1.5 in /usr/local/lib/python3.12/dist-packages (from python-dateutil>=2.7->matplotlib>=1.4.0->pyfolio-reloaded) (1.17.0)\n",
            "Downloading pyfolio_reloaded-0.9.9-py3-none-any.whl (6.2 MB)\n",
            "\u001b[2K   \u001b[90m━━━━━━━━━━━━━━━━━━━━━━━━━━━━━━━━━━━━━━━━\u001b[0m \u001b[32m6.2/6.2 MB\u001b[0m \u001b[31m91.5 MB/s\u001b[0m eta \u001b[36m0:00:00\u001b[0m\n",
            "\u001b[?25hDownloading empyrical_reloaded-0.5.12-py3-none-any.whl (33 kB)\n",
            "Downloading jedi-0.19.2-py2.py3-none-any.whl (1.6 MB)\n",
            "\u001b[2K   \u001b[90m━━━━━━━━━━━━━━━━━━━━━━━━━━━━━━━━━━━━━━━━\u001b[0m \u001b[32m1.6/1.6 MB\u001b[0m \u001b[31m71.7 MB/s\u001b[0m eta \u001b[36m0:00:00\u001b[0m\n",
            "\u001b[?25hBuilding wheels for collected packages: peewee\n",
            "  Building wheel for peewee (pyproject.toml) ... \u001b[?25l\u001b[?25hdone\n",
            "  Created wheel for peewee: filename=peewee-3.17.3-py3-none-any.whl size=138487 sha256=9d2991294a80cd923b61bb9cab95f9341354a638c9aff4697d95843f3a6025d9\n",
            "  Stored in directory: /root/.cache/pip/wheels/39/c7/dd/909d267742f7fbb941ff081dacd661f622a0b4eb38f667b84b\n",
            "Successfully built peewee\n",
            "Installing collected packages: peewee, jedi, empyrical-reloaded, pyfolio-reloaded\n",
            "  Attempting uninstall: peewee\n",
            "    Found existing installation: peewee 3.18.2\n",
            "    Uninstalling peewee-3.18.2:\n",
            "      Successfully uninstalled peewee-3.18.2\n",
            "Successfully installed empyrical-reloaded-0.5.12 jedi-0.19.2 peewee-3.17.3 pyfolio-reloaded-0.9.9\n"
          ]
        }
      ]
    },
    {
      "cell_type": "code",
      "source": [
        "\n",
        "import pyfolio as pf\n",
        "perf_func = pf.timeseries.perf_stats\n",
        "perf_func(data['strategy_returns'])"
      ],
      "metadata": {
        "colab": {
          "base_uri": "https://localhost:8080/",
          "height": 547
        },
        "id": "pr0rQHisq1LP",
        "outputId": "c14fc6a0-6d18-492c-acd2-627c438c6830"
      },
      "execution_count": 14,
      "outputs": [
        {
          "output_type": "stream",
          "name": "stderr",
          "text": [
            "/usr/local/lib/python3.12/dist-packages/pyfolio/pos.py:25: UserWarning: Module \"zipline.assets\" not found; multipliers will not be applied to position notionals.\n",
            "  warnings.warn(\n"
          ]
        },
        {
          "output_type": "execute_result",
          "data": {
            "text/plain": [
              "Annual return          2.019327e+03\n",
              "Cumulative returns     6.015853e+57\n",
              "Annual volatility      3.682215e+00\n",
              "Sharpe ratio           3.292702e+00\n",
              "Calmar ratio           2.019327e+03\n",
              "Stability              9.128380e-01\n",
              "Max drawdown          -1.000000e+00\n",
              "Omega ratio            2.662249e+00\n",
              "Sortino ratio          1.034404e+01\n",
              "Skew                   5.500282e+00\n",
              "Kurtosis               5.275790e+01\n",
              "Tail ratio             2.093965e+00\n",
              "Daily value at risk   -4.158026e-01\n",
              "dtype: float64"
            ],
            "text/html": [
              "<div>\n",
              "<style scoped>\n",
              "    .dataframe tbody tr th:only-of-type {\n",
              "        vertical-align: middle;\n",
              "    }\n",
              "\n",
              "    .dataframe tbody tr th {\n",
              "        vertical-align: top;\n",
              "    }\n",
              "\n",
              "    .dataframe thead th {\n",
              "        text-align: right;\n",
              "    }\n",
              "</style>\n",
              "<table border=\"1\" class=\"dataframe\">\n",
              "  <thead>\n",
              "    <tr style=\"text-align: right;\">\n",
              "      <th></th>\n",
              "      <th>0</th>\n",
              "    </tr>\n",
              "  </thead>\n",
              "  <tbody>\n",
              "    <tr>\n",
              "      <th>Annual return</th>\n",
              "      <td>2.019327e+03</td>\n",
              "    </tr>\n",
              "    <tr>\n",
              "      <th>Cumulative returns</th>\n",
              "      <td>6.015853e+57</td>\n",
              "    </tr>\n",
              "    <tr>\n",
              "      <th>Annual volatility</th>\n",
              "      <td>3.682215e+00</td>\n",
              "    </tr>\n",
              "    <tr>\n",
              "      <th>Sharpe ratio</th>\n",
              "      <td>3.292702e+00</td>\n",
              "    </tr>\n",
              "    <tr>\n",
              "      <th>Calmar ratio</th>\n",
              "      <td>2.019327e+03</td>\n",
              "    </tr>\n",
              "    <tr>\n",
              "      <th>Stability</th>\n",
              "      <td>9.128380e-01</td>\n",
              "    </tr>\n",
              "    <tr>\n",
              "      <th>Max drawdown</th>\n",
              "      <td>-1.000000e+00</td>\n",
              "    </tr>\n",
              "    <tr>\n",
              "      <th>Omega ratio</th>\n",
              "      <td>2.662249e+00</td>\n",
              "    </tr>\n",
              "    <tr>\n",
              "      <th>Sortino ratio</th>\n",
              "      <td>1.034404e+01</td>\n",
              "    </tr>\n",
              "    <tr>\n",
              "      <th>Skew</th>\n",
              "      <td>5.500282e+00</td>\n",
              "    </tr>\n",
              "    <tr>\n",
              "      <th>Kurtosis</th>\n",
              "      <td>5.275790e+01</td>\n",
              "    </tr>\n",
              "    <tr>\n",
              "      <th>Tail ratio</th>\n",
              "      <td>2.093965e+00</td>\n",
              "    </tr>\n",
              "    <tr>\n",
              "      <th>Daily value at risk</th>\n",
              "      <td>-4.158026e-01</td>\n",
              "    </tr>\n",
              "  </tbody>\n",
              "</table>\n",
              "</div><br><label><b>dtype:</b> float64</label>"
            ]
          },
          "metadata": {},
          "execution_count": 14
        }
      ]
    },
    {
      "cell_type": "code",
      "source": [
        "def cpcv_generator(t_span, n, k):\n",
        "    # 1. разбиваем моменты времени на n групп\n",
        "    group_num = np.arange(t_span) // (t_span // n)\n",
        "    group_num[group_num == n] = n-1\n",
        "\n",
        "    # 2. считаем количество всевозможных симуляций и путей\n",
        "    test_groups = np.array(list(itt.combinations(np.arange(n), k))).reshape(-1, k)\n",
        "    C_nk = len(test_groups)\n",
        "    n_paths = C_nk * k // n\n",
        "\n",
        "    # 3. отмечаем моменты времени и группы как тестовые\n",
        "    is_test_group = np.full((n, C_nk), fill_value=False)\n",
        "    is_test = np.full((t_span, C_nk), fill_value=False)\n",
        "\n",
        "    for sim_i, comb in enumerate(test_groups):\n",
        "        is_test_group[comb, sim_i] = True # группа тестовая в симуляции sim_i\n",
        "\n",
        "        mask = np.isin(group_num, comb)\n",
        "        is_test[mask, sim_i] = True\n",
        "\n",
        "    # 4. для каждого пути отмечаем из каких групп он состоит\n",
        "    path_folds = np.full((n, n_paths), fill_value=np.nan) # всемозможные пути тестирования\n",
        "\n",
        "    # для каждой группы находим симуляцию с минимальным номером,\n",
        "    # в которой она тестовая\n",
        "    for i in range(n_paths):\n",
        "        for j in range(n):\n",
        "            sim_i = is_test_group[j, :].argmax().astype(int)\n",
        "            path_folds[j, i] = sim_i\n",
        "            is_test_group[j, sim_i] = False\n",
        "\n",
        "    # 5. для каждого пути отмечаем из каких моментов времени он состоит\n",
        "    paths = np.full((t_span, n_paths), fill_value=np.nan)\n",
        "\n",
        "    for p in range(n_paths):\n",
        "        for i in range(n):\n",
        "            mask = (group_num == i)\n",
        "            paths[mask, p] = int(path_folds[i, p])\n",
        "\n",
        "    return (is_test, paths, path_folds)\n"
      ],
      "metadata": {
        "id": "EOez56HLsLmB"
      },
      "execution_count": 15,
      "outputs": []
    },
    {
      "cell_type": "code",
      "source": [
        "num_ticks = 100\n",
        "num_paths = 5\n",
        "num_groups_test = 2\n",
        "num_groups = num_paths + 1\n",
        "\n",
        "is_test, paths, path_folds = cpcv_generator(num_ticks, num_groups, num_groups_test)\n",
        "path_folds"
      ],
      "metadata": {
        "colab": {
          "base_uri": "https://localhost:8080/"
        },
        "id": "B_j9c8GcsiQ0",
        "outputId": "eaa8a800-d571-4e83-c6e6-4e7e50bb7de3"
      },
      "execution_count": 20,
      "outputs": [
        {
          "output_type": "execute_result",
          "data": {
            "text/plain": [
              "array([[ 0.,  1.,  2.,  3.,  4.],\n",
              "       [ 0.,  5.,  6.,  7.,  8.],\n",
              "       [ 1.,  5.,  9., 10., 11.],\n",
              "       [ 2.,  6.,  9., 12., 13.],\n",
              "       [ 3.,  7., 10., 12., 14.],\n",
              "       [ 4.,  8., 11., 13., 14.]])"
            ]
          },
          "metadata": {},
          "execution_count": 20
        }
      ]
    },
    {
      "cell_type": "code",
      "source": [
        "from hurst import compute_Hc\n",
        "data['hurst'] = data['close'].rolling(window=126).apply(lambda x: compute_Hc(x)[0])\n",
        "data['hurst'].isna().sum() / len(data)"
      ],
      "metadata": {
        "colab": {
          "base_uri": "https://localhost:8080/"
        },
        "id": "WEuoNupuW7oE",
        "outputId": "b70cc1bd-1a16-4165-ab26-fb37d45183fd"
      },
      "execution_count": 22,
      "outputs": [
        {
          "output_type": "execute_result",
          "data": {
            "text/plain": [
              "np.float64(0.028376844494892167)"
            ]
          },
          "metadata": {},
          "execution_count": 22
        }
      ]
    },
    {
      "cell_type": "code",
      "source": [
        "data['hurst'].plot()\n",
        "plt.show()"
      ],
      "metadata": {
        "colab": {
          "base_uri": "https://localhost:8080/",
          "height": 454
        },
        "id": "No7CAFBjXV5W",
        "outputId": "67d7e3ec-022b-4a1b-db59-0cdfd7f379fe"
      },
      "execution_count": 24,
      "outputs": [
        {
          "output_type": "display_data",
          "data": {
            "text/plain": [
              "<Figure size 640x480 with 1 Axes>"
            ],
            "image/png": "[encoded data removed]"
          },
          "metadata": {}
        }
      ]
    },
    {
      "cell_type": "code",
      "source": [
        "data['zscore'] = (data.close - data.close.rolling(126).mean()) / data.close.rolling(126).std()\n",
        "data['ma21'] = data.close.rolling(21).mean()\n",
        "data['ma252'] = data.close.rolling(252).mean()\n",
        "data['vol'] = data.close.pct_change().rolling(63).std()\n",
        "data[['ma252', 'ma21']].plot()\n",
        "plt.show()"
      ],
      "metadata": {
        "colab": {
          "base_uri": "https://localhost:8080/",
          "height": 449
        },
        "id": "gmoCzrIUXoxa",
        "outputId": "d1066fb5-22c2-4880-aa72-304422eb7970"
      },
      "execution_count": 25,
      "outputs": [
        {
          "output_type": "display_data",
          "data": {
            "text/plain": [
              "<Figure size 640x480 with 1 Axes>"
            ],
            "image/png": "[encoded data removed]"
          },
          "metadata": {}
        }
      ]
    },
    {
      "cell_type": "code",
      "source": [
        "data['zscore'].plot()\n",
        "plt.show()"
      ],
      "metadata": {
        "colab": {
          "base_uri": "https://localhost:8080/",
          "height": 450
        },
        "id": "t1Xw3ZMTYEqX",
        "outputId": "17148e68-89f2-4868-dfdf-09dc2a5cd88b"
      },
      "execution_count": 26,
      "outputs": [
        {
          "output_type": "display_data",
          "data": {
            "text/plain": [
              "<Figure size 640x480 with 1 Axes>"
            ],
            "image/png": "[encoded data removed]"
          },
          "metadata": {}
        }
      ]
    },
    {
      "cell_type": "code",
      "source": [
        "data['vol'].plot()\n",
        "plt.show()"
      ],
      "metadata": {
        "colab": {
          "base_uri": "https://localhost:8080/",
          "height": 449
        },
        "id": "X96x1UV4YO4y",
        "outputId": "eb6d7e96-6597-4b0d-f601-57374fd77db7"
      },
      "execution_count": 27,
      "outputs": [
        {
          "output_type": "display_data",
          "data": {
            "text/plain": [
              "<Figure size 640x480 with 1 Axes>"
            ],
            "image/png": "[encoded data removed]"
          },
          "metadata": {}
        }
      ]
    },
    {
      "cell_type": "code",
      "source": [
        "feats = ['zscore', 'ma252', 'ma21', 'vol', 'hurst']\n",
        "data[feats].corr()"
      ],
      "metadata": {
        "colab": {
          "base_uri": "https://localhost:8080/",
          "height": 206
        },
        "id": "xzv45IU_YYfX",
        "outputId": "f8d63584-68b4-4bfe-a68f-4f86c01ec9a5"
      },
      "execution_count": 28,
      "outputs": [
        {
          "output_type": "execute_result",
          "data": {
            "text/plain": [
              "          zscore     ma252      ma21       vol     hurst\n",
              "zscore  1.000000 -0.096693  0.022897 -0.029561  0.312500\n",
              "ma252  -0.096693  1.000000  0.951135 -0.210468 -0.050838\n",
              "ma21    0.022897  0.951135  1.000000 -0.226774  0.037450\n",
              "vol    -0.029561 -0.210468 -0.226774  1.000000  0.173075\n",
              "hurst   0.312500 -0.050838  0.037450  0.173075  1.000000"
            ],
            "text/html": [
              "\n",
              "  <div id=\"df-e092097c-37f0-4f64-a25a-97d31f4feb31\" class=\"colab-df-container\">\n",
              "    <div>\n",
              "<style scoped>\n",
              "    .dataframe tbody tr th:only-of-type {\n",
              "        vertical-align: middle;\n",
              "    }\n",
              "\n",
              "    .dataframe tbody tr th {\n",
              "        vertical-align: top;\n",
              "    }\n",
              "\n",
              "    .dataframe thead th {\n",
              "        text-align: right;\n",
              "    }\n",
              "</style>\n",
              "<table border=\"1\" class=\"dataframe\">\n",
              "  <thead>\n",
              "    <tr style=\"text-align: right;\">\n",
              "      <th></th>\n",
              "      <th>zscore</th>\n",
              "      <th>ma252</th>\n",
              "      <th>ma21</th>\n",
              "      <th>vol</th>\n",
              "      <th>hurst</th>\n",
              "    </tr>\n",
              "  </thead>\n",
              "  <tbody>\n",
              "    <tr>\n",
              "      <th>zscore</th>\n",
              "      <td>1.000000</td>\n",
              "      <td>-0.096693</td>\n",
              "      <td>0.022897</td>\n",
              "      <td>-0.029561</td>\n",
              "      <td>0.312500</td>\n",
              "    </tr>\n",
              "    <tr>\n",
              "      <th>ma252</th>\n",
              "      <td>-0.096693</td>\n",
              "      <td>1.000000</td>\n",
              "      <td>0.951135</td>\n",
              "      <td>-0.210468</td>\n",
              "      <td>-0.050838</td>\n",
              "    </tr>\n",
              "    <tr>\n",
              "      <th>ma21</th>\n",
              "      <td>0.022897</td>\n",
              "      <td>0.951135</td>\n",
              "      <td>1.000000</td>\n",
              "      <td>-0.226774</td>\n",
              "      <td>0.037450</td>\n",
              "    </tr>\n",
              "    <tr>\n",
              "      <th>vol</th>\n",
              "      <td>-0.029561</td>\n",
              "      <td>-0.210468</td>\n",
              "      <td>-0.226774</td>\n",
              "      <td>1.000000</td>\n",
              "      <td>0.173075</td>\n",
              "    </tr>\n",
              "    <tr>\n",
              "      <th>hurst</th>\n",
              "      <td>0.312500</td>\n",
              "      <td>-0.050838</td>\n",
              "      <td>0.037450</td>\n",
              "      <td>0.173075</td>\n",
              "      <td>1.000000</td>\n",
              "    </tr>\n",
              "  </tbody>\n",
              "</table>\n",
              "</div>\n",
              "    <div class=\"colab-df-buttons\">\n",
              "\n",
              "  <div class=\"colab-df-container\">\n",
              "    <button class=\"colab-df-convert\" onclick=\"convertToInteractive('df-e092097c-37f0-4f64-a25a-97d31f4feb31')\"\n",
              "            title=\"Convert this dataframe to an interactive table.\"\n",
              "            style=\"display:none;\">\n",
              "\n",
              "  <svg xmlns=\"http://www.w3.org/2000/svg\" height=\"24px\" viewBox=\"0 -960 960 960\">\n",
              "    <path d=\"M120-120v-720h720v720H120Zm60-500h600v-160H180v160Zm220 220h160v-160H400v160Zm0 220h160v-160H400v160ZM180-400h160v-160H180v160Zm440 0h160v-160H620v160ZM180-180h160v-160H180v160Zm440 0h160v-160H620v160Z\"/>\n",
              "  </svg>\n",
              "    </button>\n",
              "\n",
              "  <style>\n",
              "    .colab-df-container {\n",
              "      display:flex;\n",
              "      gap: 12px;\n",
              "    }\n",
              "\n",
              "    .colab-df-convert {\n",
              "      background-color: #E8F0FE;\n",
              "      border: none;\n",
              "      border-radius: 50%;\n",
              "      cursor: pointer;\n",
              "      display: none;\n",
              "      fill: #1967D2;\n",
              "      height: 32px;\n",
              "      padding: 0 0 0 0;\n",
              "      width: 32px;\n",
              "    }\n",
              "\n",
              "    .colab-df-convert:hover {\n",
              "      background-color: #E2EBFA;\n",
              "      box-shadow: 0px 1px 2px rgba(60, 64, 67, 0.3), 0px 1px 3px 1px rgba(60, 64, 67, 0.15);\n",
              "      fill: #174EA6;\n",
              "    }\n",
              "\n",
              "    .colab-df-buttons div {\n",
              "      margin-bottom: 4px;\n",
              "    }\n",
              "\n",
              "    [theme=dark] .colab-df-convert {\n",
              "      background-color: #3B4455;\n",
              "      fill: #D2E3FC;\n",
              "    }\n",
              "\n",
              "    [theme=dark] .colab-df-convert:hover {\n",
              "      background-color: #434B5C;\n",
              "      box-shadow: 0px 1px 3px 1px rgba(0, 0, 0, 0.15);\n",
              "      filter: drop-shadow(0px 1px 2px rgba(0, 0, 0, 0.3));\n",
              "      fill: #FFFFFF;\n",
              "    }\n",
              "  </style>\n",
              "\n",
              "    <script>\n",
              "      const buttonEl =\n",
              "        document.querySelector('#df-e092097c-37f0-4f64-a25a-97d31f4feb31 button.colab-df-convert');\n",
              "      buttonEl.style.display =\n",
              "        google.colab.kernel.accessAllowed ? 'block' : 'none';\n",
              "\n",
              "      async function convertToInteractive(key) {\n",
              "        const element = document.querySelector('#df-e092097c-37f0-4f64-a25a-97d31f4feb31');\n",
              "        const dataTable =\n",
              "          await google.colab.kernel.invokeFunction('convertToInteractive',\n",
              "                                                    [key], {});\n",
              "        if (!dataTable) return;\n",
              "\n",
              "        const docLinkHtml = 'Like what you see? Visit the ' +\n",
              "          '<a target=\"_blank\" href=https://colab.research.google.com/notebooks/data_table.ipynb>data table notebook</a>'\n",
              "          + ' to learn more about interactive tables.';\n",
              "        element.innerHTML = '';\n",
              "        dataTable['output_type'] = 'display_data';\n",
              "        await google.colab.output.renderOutput(dataTable, element);\n",
              "        const docLink = document.createElement('div');\n",
              "        docLink.innerHTML = docLinkHtml;\n",
              "        element.appendChild(docLink);\n",
              "      }\n",
              "    </script>\n",
              "  </div>\n",
              "\n",
              "\n",
              "    <div id=\"df-029b3dbf-0627-4e85-a276-9b6350e0a429\">\n",
              "      <button class=\"colab-df-quickchart\" onclick=\"quickchart('df-029b3dbf-0627-4e85-a276-9b6350e0a429')\"\n",
              "                title=\"Suggest charts\"\n",
              "                style=\"display:none;\">\n",
              "\n",
              "<svg xmlns=\"http://www.w3.org/2000/svg\" height=\"24px\"viewBox=\"0 0 24 24\"\n",
              "     width=\"24px\">\n",
              "    <g>\n",
              "        <path d=\"M19 3H5c-1.1 0-2 .9-2 2v14c0 1.1.9 2 2 2h14c1.1 0 2-.9 2-2V5c0-1.1-.9-2-2-2zM9 17H7v-7h2v7zm4 0h-2V7h2v10zm4 0h-2v-4h2v4z\"/>\n",
              "    </g>\n",
              "</svg>\n",
              "      </button>\n",
              "\n",
              "<style>\n",
              "  .colab-df-quickchart {\n",
              "      --bg-color: #E8F0FE;\n",
              "      --fill-color: #1967D2;\n",
              "      --hover-bg-color: #E2EBFA;\n",
              "      --hover-fill-color: #174EA6;\n",
              "      --disabled-fill-color: #AAA;\n",
              "      --disabled-bg-color: #DDD;\n",
              "  }\n",
              "\n",
              "  [theme=dark] .colab-df-quickchart {\n",
              "      --bg-color: #3B4455;\n",
              "      --fill-color: #D2E3FC;\n",
              "      --hover-bg-color: #434B5C;\n",
              "      --hover-fill-color: #FFFFFF;\n",
              "      --disabled-bg-color: #3B4455;\n",
              "      --disabled-fill-color: #666;\n",
              "  }\n",
              "\n",
              "  .colab-df-quickchart {\n",
              "    background-color: var(--bg-color);\n",
              "    border: none;\n",
              "    border-radius: 50%;\n",
              "    cursor: pointer;\n",
              "    display: none;\n",
              "    fill: var(--fill-color);\n",
              "    height: 32px;\n",
              "    padding: 0;\n",
              "    width: 32px;\n",
              "  }\n",
              "\n",
              "  .colab-df-quickchart:hover {\n",
              "    background-color: var(--hover-bg-color);\n",
              "    box-shadow: 0 1px 2px rgba(60, 64, 67, 0.3), 0 1px 3px 1px rgba(60, 64, 67, 0.15);\n",
              "    fill: var(--button-hover-fill-color);\n",
              "  }\n",
              "\n",
              "  .colab-df-quickchart-complete:disabled,\n",
              "  .colab-df-quickchart-complete:disabled:hover {\n",
              "    background-color: var(--disabled-bg-color);\n",
              "    fill: var(--disabled-fill-color);\n",
              "    box-shadow: none;\n",
              "  }\n",
              "\n",
              "  .colab-df-spinner {\n",
              "    border: 2px solid var(--fill-color);\n",
              "    border-color: transparent;\n",
              "    border-bottom-color: var(--fill-color);\n",
              "    animation:\n",
              "      spin 1s steps(1) infinite;\n",
              "  }\n",
              "\n",
              "  @keyframes spin {\n",
              "    0% {\n",
              "      border-color: transparent;\n",
              "      border-bottom-color: var(--fill-color);\n",
              "      border-left-color: var(--fill-color);\n",
              "    }\n",
              "    20% {\n",
              "      border-color: transparent;\n",
              "      border-left-color: var(--fill-color);\n",
              "      border-top-color: var(--fill-color);\n",
              "    }\n",
              "    30% {\n",
              "      border-color: transparent;\n",
              "      border-left-color: var(--fill-color);\n",
              "      border-top-color: var(--fill-color);\n",
              "      border-right-color: var(--fill-color);\n",
              "    }\n",
              "    40% {\n",
              "      border-color: transparent;\n",
              "      border-right-color: var(--fill-color);\n",
              "      border-top-color: var(--fill-color);\n",
              "    }\n",
              "    60% {\n",
              "      border-color: transparent;\n",
              "      border-right-color: var(--fill-color);\n",
              "    }\n",
              "    80% {\n",
              "      border-color: transparent;\n",
              "      border-right-color: var(--fill-color);\n",
              "      border-bottom-color: var(--fill-color);\n",
              "    }\n",
              "    90% {\n",
              "      border-color: transparent;\n",
              "      border-bottom-color: var(--fill-color);\n",
              "    }\n",
              "  }\n",
              "</style>\n",
              "\n",
              "      <script>\n",
              "        async function quickchart(key) {\n",
              "          const quickchartButtonEl =\n",
              "            document.querySelector('#' + key + ' button');\n",
              "          quickchartButtonEl.disabled = true;  // To prevent multiple clicks.\n",
              "          quickchartButtonEl.classList.add('colab-df-spinner');\n",
              "          try {\n",
              "            const charts = await google.colab.kernel.invokeFunction(\n",
              "                'suggestCharts', [key], {});\n",
              "          } catch (error) {\n",
              "            console.error('Error during call to suggestCharts:', error);\n",
              "          }\n",
              "          quickchartButtonEl.classList.remove('colab-df-spinner');\n",
              "          quickchartButtonEl.classList.add('colab-df-quickchart-complete');\n",
              "        }\n",
              "        (() => {\n",
              "          let quickchartButtonEl =\n",
              "            document.querySelector('#df-029b3dbf-0627-4e85-a276-9b6350e0a429 button');\n",
              "          quickchartButtonEl.style.display =\n",
              "            google.colab.kernel.accessAllowed ? 'block' : 'none';\n",
              "        })();\n",
              "      </script>\n",
              "    </div>\n",
              "\n",
              "    </div>\n",
              "  </div>\n"
            ],
            "application/vnd.google.colaboratory.intrinsic+json": {
              "type": "dataframe",
              "summary": "{\n  \"name\": \"data[feats]\",\n  \"rows\": 5,\n  \"fields\": [\n    {\n      \"column\": \"zscore\",\n      \"properties\": {\n        \"dtype\": \"number\",\n        \"std\": 0.45166318492159674,\n        \"min\": -0.09669286675581226,\n        \"max\": 1.0,\n        \"num_unique_values\": 5,\n        \"samples\": [\n          -0.09669286675581226,\n          0.31250001449890563,\n          0.022896633828347807\n        ],\n        \"semantic_type\": \"\",\n        \"description\": \"\"\n      }\n    },\n    {\n      \"column\": \"ma252\",\n      \"properties\": {\n        \"dtype\": \"number\",\n        \"std\": 0.6027587767223339,\n        \"min\": -0.21046846176753875,\n        \"max\": 1.0,\n        \"num_unique_values\": 5,\n        \"samples\": [\n          1.0,\n          -0.0508375292438716,\n          0.951135315186588\n        ],\n        \"semantic_type\": \"\",\n        \"description\": \"\"\n      }\n    },\n    {\n      \"column\": \"ma21\",\n      \"properties\": {\n        \"dtype\": \"number\",\n        \"std\": 0.574668457715102,\n        \"min\": -0.226774010649429,\n        \"max\": 1.0,\n        \"num_unique_values\": 5,\n        \"samples\": [\n          0.951135315186588,\n          0.037449636638797065,\n          1.0\n        ],\n        \"semantic_type\": \"\",\n        \"description\": \"\"\n      }\n    },\n    {\n      \"column\": \"vol\",\n      \"properties\": {\n        \"dtype\": \"number\",\n        \"std\": 0.5066528057910392,\n        \"min\": -0.226774010649429,\n        \"max\": 1.0,\n        \"num_unique_values\": 5,\n        \"samples\": [\n          -0.21046846176753875,\n          0.1730747229403833,\n          -0.226774010649429\n        ],\n        \"semantic_type\": \"\",\n        \"description\": \"\"\n      }\n    },\n    {\n      \"column\": \"hurst\",\n      \"properties\": {\n        \"dtype\": \"number\",\n        \"std\": 0.4177712374093393,\n        \"min\": -0.0508375292438716,\n        \"max\": 1.0,\n        \"num_unique_values\": 5,\n        \"samples\": [\n          -0.0508375292438716,\n          1.0,\n          0.037449636638797065\n        ],\n        \"semantic_type\": \"\",\n        \"description\": \"\"\n      }\n    }\n  ]\n}"
            }
          },
          "metadata": {},
          "execution_count": 28
        }
      ]
    },
    {
      "cell_type": "code",
      "source": [
        "from tqdm.notebook import tqdm\n",
        "from sklearn.tree import DecisionTreeClassifier\n",
        "from sklearn.ensemble import BaggingClassifier"
      ],
      "metadata": {
        "id": "Lkr2YhAkYi1H"
      },
      "execution_count": 29,
      "outputs": []
    },
    {
      "cell_type": "code",
      "source": [
        "t1_ = data.index\n",
        "t1 = pd.Series(t1_[21:], index=t1_[:-21])\n",
        "t1.head()"
      ],
      "metadata": {
        "colab": {
          "base_uri": "https://localhost:8080/",
          "height": 272
        },
        "id": "BfYZ26HLYvR_",
        "outputId": "abc0bffe-879c-4a94-a47a-7e0c247e82d1"
      },
      "execution_count": 31,
      "outputs": [
        {
          "output_type": "execute_result",
          "data": {
            "text/plain": [
              "date\n",
              "2013-05-08   2013-05-29\n",
              "2013-05-09   2013-05-30\n",
              "2013-05-10   2013-05-31\n",
              "2013-05-11   2013-06-01\n",
              "2013-05-12   2013-06-02\n",
              "Name: date, dtype: datetime64[ns]"
            ],
            "text/html": [
              "<div>\n",
              "<style scoped>\n",
              "    .dataframe tbody tr th:only-of-type {\n",
              "        vertical-align: middle;\n",
              "    }\n",
              "\n",
              "    .dataframe tbody tr th {\n",
              "        vertical-align: top;\n",
              "    }\n",
              "\n",
              "    .dataframe thead th {\n",
              "        text-align: right;\n",
              "    }\n",
              "</style>\n",
              "<table border=\"1\" class=\"dataframe\">\n",
              "  <thead>\n",
              "    <tr style=\"text-align: right;\">\n",
              "      <th></th>\n",
              "      <th>date</th>\n",
              "    </tr>\n",
              "    <tr>\n",
              "      <th>date</th>\n",
              "      <th></th>\n",
              "    </tr>\n",
              "  </thead>\n",
              "  <tbody>\n",
              "    <tr>\n",
              "      <th>2013-05-08</th>\n",
              "      <td>2013-05-29</td>\n",
              "    </tr>\n",
              "    <tr>\n",
              "      <th>2013-05-09</th>\n",
              "      <td>2013-05-30</td>\n",
              "    </tr>\n",
              "    <tr>\n",
              "      <th>2013-05-10</th>\n",
              "      <td>2013-05-31</td>\n",
              "    </tr>\n",
              "    <tr>\n",
              "      <th>2013-05-11</th>\n",
              "      <td>2013-06-01</td>\n",
              "    </tr>\n",
              "    <tr>\n",
              "      <th>2013-05-12</th>\n",
              "      <td>2013-06-02</td>\n",
              "    </tr>\n",
              "  </tbody>\n",
              "</table>\n",
              "</div><br><label><b>dtype:</b> datetime64[ns]</label>"
            ]
          },
          "metadata": {},
          "execution_count": 31
        }
      ]
    },
    {
      "cell_type": "code",
      "source": [
        "def purge(t1, test_times):\n",
        "    train = t1.copy(deep=True)\n",
        "    for start, end in test_times.items():\n",
        "        df_0 = train[(start <= train.index) & (train.index <= end)].index\n",
        "        df_1 = train[(start <= train) & (train <= end)].index\n",
        "        df_2 = train[(train.index <= start) & (end <= train)].index\n",
        "        train = train.drop(df_0.union(df_1).union(df_2))\n",
        "    return train"
      ],
      "metadata": {
        "id": "nwaRA3HUZZm1"
      },
      "execution_count": 50,
      "outputs": []
    },
    {
      "cell_type": "code",
      "source": [
        "def embargo_(times, pct_embargo):\n",
        "    step = int(times.shape[0] * pct_embargo)\n",
        "    if step == 0:\n",
        "        return pd.Series(times, index=times)\n",
        "    ans = pd.Series(times[step:].values, index=times[:-step].index)\n",
        "    ans = pd.concat([ans,pd.Series(times[-1], index=times[-step:].index)])\n",
        "    return ans\n",
        "\n",
        "def embargo(test_times, t1, pct_embargo=0.01):\n",
        "    t1_embargo = embargo_(t1, pct_embargo)\n",
        "    test_times_embargoed = t1_embargo.loc[test_times.index]\n",
        "    return test_times_embargoed\n"
      ],
      "metadata": {
        "id": "iOFajD2Pa7dJ"
      },
      "execution_count": 51,
      "outputs": []
    },
    {
      "cell_type": "code",
      "source": [
        "data.shape"
      ],
      "metadata": {
        "colab": {
          "base_uri": "https://localhost:8080/"
        },
        "id": "eQ3PAEGnb0uR",
        "outputId": "eccad970-d6d3-4dca-accd-f2e9db7e2753"
      },
      "execution_count": 35,
      "outputs": [
        {
          "output_type": "execute_result",
          "data": {
            "text/plain": [
              "(4405, 16)"
            ]
          },
          "metadata": {},
          "execution_count": 35
        }
      ]
    },
    {
      "cell_type": "code",
      "source": [
        "thold = 0.01\n",
        "returns = data.close.shift(-21).pct_change(21)\n",
        "signal = data.signal_mh\n",
        "\n",
        "mask_1 = (returns > thold) & (signal == 1)\n",
        "mask_2 = (returns > thold) & (signal == 0)\n",
        "mask_3 = (returns <= thold) & (signal == 1)\n",
        "mask_4 = (returns <= thold) & (signal == 0)\n",
        "\n",
        "data['y'] = np.nan\n",
        "data.loc[mask_1, 'y'] = 1\n",
        "data.loc[mask_2, 'y'] = 0\n",
        "data.loc[mask_3, 'y'] = 0\n",
        "data.loc[mask_4, 'y'] = 1\n",
        "\n",
        "data['y'].value_counts()"
      ],
      "metadata": {
        "colab": {
          "base_uri": "https://localhost:8080/",
          "height": 234
        },
        "id": "NjcYac4Vb1xu",
        "outputId": "66171b03-0076-4a58-8cd2-f02d76281326"
      },
      "execution_count": 39,
      "outputs": [
        {
          "output_type": "stream",
          "name": "stderr",
          "text": [
            "/tmp/ipython-input-135168267.py:2: FutureWarning: The default fill_method='pad' in Series.pct_change is deprecated and will be removed in a future version. Either fill in any non-leading NA values prior to calling pct_change or specify 'fill_method=None' to not fill NA values.\n",
            "  returns = data.close.shift(-21).pct_change(21)\n"
          ]
        },
        {
          "output_type": "execute_result",
          "data": {
            "text/plain": [
              "y\n",
              "1.0    2330\n",
              "0.0    2054\n",
              "Name: count, dtype: int64"
            ],
            "text/html": [
              "<div>\n",
              "<style scoped>\n",
              "    .dataframe tbody tr th:only-of-type {\n",
              "        vertical-align: middle;\n",
              "    }\n",
              "\n",
              "    .dataframe tbody tr th {\n",
              "        vertical-align: top;\n",
              "    }\n",
              "\n",
              "    .dataframe thead th {\n",
              "        text-align: right;\n",
              "    }\n",
              "</style>\n",
              "<table border=\"1\" class=\"dataframe\">\n",
              "  <thead>\n",
              "    <tr style=\"text-align: right;\">\n",
              "      <th></th>\n",
              "      <th>count</th>\n",
              "    </tr>\n",
              "    <tr>\n",
              "      <th>y</th>\n",
              "      <th></th>\n",
              "    </tr>\n",
              "  </thead>\n",
              "  <tbody>\n",
              "    <tr>\n",
              "      <th>1.0</th>\n",
              "      <td>2330</td>\n",
              "    </tr>\n",
              "    <tr>\n",
              "      <th>0.0</th>\n",
              "      <td>2054</td>\n",
              "    </tr>\n",
              "  </tbody>\n",
              "</table>\n",
              "</div><br><label><b>dtype:</b> int64</label>"
            ]
          },
          "metadata": {},
          "execution_count": 39
        }
      ]
    },
    {
      "cell_type": "code",
      "source": [
        "data = data.loc[t1.index]\n",
        "len(data), len(t1)"
      ],
      "metadata": {
        "colab": {
          "base_uri": "https://localhost:8080/"
        },
        "id": "6tMJk5Jtc-JA",
        "outputId": "a887ce7e-ceda-4c35-b553-2db037edd2d7"
      },
      "execution_count": 40,
      "outputs": [
        {
          "output_type": "execute_result",
          "data": {
            "text/plain": [
              "(4384, 4384)"
            ]
          },
          "metadata": {},
          "execution_count": 40
        }
      ]
    },
    {
      "cell_type": "code",
      "source": [
        "data = data.dropna()\n",
        "t1 = t1.loc[data.index]\n",
        "len(t1)"
      ],
      "metadata": {
        "colab": {
          "base_uri": "https://localhost:8080/"
        },
        "id": "ZH2pQC74dFnq",
        "outputId": "b4ca703e-b84e-4478-89c6-a21d222a79df"
      },
      "execution_count": 41,
      "outputs": [
        {
          "output_type": "execute_result",
          "data": {
            "text/plain": [
              "4133"
            ]
          },
          "metadata": {},
          "execution_count": 41
        }
      ]
    },
    {
      "cell_type": "code",
      "source": [
        "num_paths = 5\n",
        "num_groups_test = 2\n",
        "num_groups = num_paths + 1\n",
        "num_ticks = len(data)\n",
        "\n",
        "is_test, paths, _ = cpcv_generator(num_ticks, num_groups, num_groups_test)"
      ],
      "metadata": {
        "id": "s2SQMctGdPze"
      },
      "execution_count": 42,
      "outputs": []
    },
    {
      "cell_type": "code",
      "source": [
        "pred = np.full(is_test.shape, np.nan)\n",
        "\n",
        "X = data[feats]\n",
        "y = data['y']\n",
        "\n",
        "num_sim = is_test.shape[1]\n",
        "for k in tqdm(range(num_sim)):\n",
        "    test_idx = is_test[:, k]\n",
        "    test_times = t1.loc[test_idx]\n",
        "    test_times_embargoed = embargo(test_times, t1, pct_embargo=0.01)\n",
        "    train_times = purge(t1, test_times_embargoed)\n",
        "\n",
        "    X_test = X.loc[test_times.index, :]\n",
        "    y_test = y.loc[X_test.index]\n",
        "\n",
        "    X_train = X.loc[train_times.index, :]\n",
        "    y_train = y.loc[X_train.index]\n",
        "\n",
        "    print('training classifier for simulation %s' % k)\n",
        "\n",
        "    np.random.seed(42)\n",
        "    base_est = DecisionTreeClassifier(\n",
        "        criterion='entropy',\n",
        "        max_features=20,\n",
        "        class_weight='balanced',\n",
        "        min_weight_fraction_leaf=0.05\n",
        "    )\n",
        "    clf = BaggingClassifier(\n",
        "        estimator=base_est,\n",
        "        n_estimators=50,\n",
        "        max_features=.99\n",
        "    )\n",
        "\n",
        "    clf.fit(X_train, y_train)\n",
        "    pred_ = clf.predict(X_test)\n",
        "\n",
        "    pred[test_idx, k] = pred_"
      ],
      "metadata": {
        "colab": {
          "base_uri": "https://localhost:8080/",
          "height": 873,
          "referenced_widgets": [
            "26434fc8926a434ba63c08dba7eb6516",
            "8983d17aab814cba818e9f8a60baeca0",
            "b4a07a12f71d40d8b9b7469c35290ef9",
            "d6b2f946e48247b992d4ec5e328d0cbd",
            "4f7623af1ada4758989fe02afb1f194c",
            "1c0edc710aed45818d5f4ec8e6091e97",
            "ae6c2494897b4e80a54ffd8fc30a833f",
            "41889c39bbbc47718c603a3c7ab19a44",
            "3538f2cb48cc43a4a6ef36353ed3d85b",
            "671becdbe3bc4002a552760adae8d298",
            "d80f42ce4cb244fb8b248f76ac2d2a98"
          ]
        },
        "id": "UE2W6Aukdiap",
        "outputId": "857dec97-de9e-41df-cf1c-46c78eb72153"
      },
      "execution_count": 57,
      "outputs": [
        {
          "output_type": "display_data",
          "data": {
            "text/plain": [
              "  0%|          | 0/15 [00:00<?, ?it/s]"
            ],
            "application/vnd.jupyter.widget-view+json": {
              "version_major": 2,
              "version_minor": 0,
              "model_id": "26434fc8926a434ba63c08dba7eb6516"
            }
          },
          "metadata": {}
        },
        {
          "output_type": "stream",
          "name": "stderr",
          "text": [
            "/tmp/ipython-input-2246050053.py:6: FutureWarning: Series.__getitem__ treating keys as positions is deprecated. In a future version, integer keys will always be treated as labels (consistent with DataFrame behavior). To access a value by position, use `ser.iloc[pos]`\n",
            "  ans = pd.concat([ans,pd.Series(times[-1], index=times[-step:].index)])\n"
          ]
        },
        {
          "output_type": "stream",
          "name": "stdout",
          "text": [
            "training classifier for simulation 0\n"
          ]
        },
        {
          "output_type": "stream",
          "name": "stderr",
          "text": [
            "/tmp/ipython-input-2246050053.py:6: FutureWarning: Series.__getitem__ treating keys as positions is deprecated. In a future version, integer keys will always be treated as labels (consistent with DataFrame behavior). To access a value by position, use `ser.iloc[pos]`\n",
            "  ans = pd.concat([ans,pd.Series(times[-1], index=times[-step:].index)])\n"
          ]
        },
        {
          "output_type": "stream",
          "name": "stdout",
          "text": [
            "training classifier for simulation 1\n"
          ]
        },
        {
          "output_type": "stream",
          "name": "stderr",
          "text": [
            "/tmp/ipython-input-2246050053.py:6: FutureWarning: Series.__getitem__ treating keys as positions is deprecated. In a future version, integer keys will always be treated as labels (consistent with DataFrame behavior). To access a value by position, use `ser.iloc[pos]`\n",
            "  ans = pd.concat([ans,pd.Series(times[-1], index=times[-step:].index)])\n"
          ]
        },
        {
          "output_type": "stream",
          "name": "stdout",
          "text": [
            "training classifier for simulation 2\n"
          ]
        },
        {
          "output_type": "stream",
          "name": "stderr",
          "text": [
            "/tmp/ipython-input-2246050053.py:6: FutureWarning: Series.__getitem__ treating keys as positions is deprecated. In a future version, integer keys will always be treated as labels (consistent with DataFrame behavior). To access a value by position, use `ser.iloc[pos]`\n",
            "  ans = pd.concat([ans,pd.Series(times[-1], index=times[-step:].index)])\n"
          ]
        },
        {
          "output_type": "stream",
          "name": "stdout",
          "text": [
            "training classifier for simulation 3\n"
          ]
        },
        {
          "output_type": "stream",
          "name": "stderr",
          "text": [
            "/tmp/ipython-input-2246050053.py:6: FutureWarning: Series.__getitem__ treating keys as positions is deprecated. In a future version, integer keys will always be treated as labels (consistent with DataFrame behavior). To access a value by position, use `ser.iloc[pos]`\n",
            "  ans = pd.concat([ans,pd.Series(times[-1], index=times[-step:].index)])\n"
          ]
        },
        {
          "output_type": "stream",
          "name": "stdout",
          "text": [
            "training classifier for simulation 4\n"
          ]
        },
        {
          "output_type": "stream",
          "name": "stderr",
          "text": [
            "/tmp/ipython-input-2246050053.py:6: FutureWarning: Series.__getitem__ treating keys as positions is deprecated. In a future version, integer keys will always be treated as labels (consistent with DataFrame behavior). To access a value by position, use `ser.iloc[pos]`\n",
            "  ans = pd.concat([ans,pd.Series(times[-1], index=times[-step:].index)])\n"
          ]
        },
        {
          "output_type": "stream",
          "name": "stdout",
          "text": [
            "training classifier for simulation 5\n"
          ]
        },
        {
          "output_type": "stream",
          "name": "stderr",
          "text": [
            "/tmp/ipython-input-2246050053.py:6: FutureWarning: Series.__getitem__ treating keys as positions is deprecated. In a future version, integer keys will always be treated as labels (consistent with DataFrame behavior). To access a value by position, use `ser.iloc[pos]`\n",
            "  ans = pd.concat([ans,pd.Series(times[-1], index=times[-step:].index)])\n"
          ]
        },
        {
          "output_type": "stream",
          "name": "stdout",
          "text": [
            "training classifier for simulation 6\n"
          ]
        },
        {
          "output_type": "stream",
          "name": "stderr",
          "text": [
            "/tmp/ipython-input-2246050053.py:6: FutureWarning: Series.__getitem__ treating keys as positions is deprecated. In a future version, integer keys will always be treated as labels (consistent with DataFrame behavior). To access a value by position, use `ser.iloc[pos]`\n",
            "  ans = pd.concat([ans,pd.Series(times[-1], index=times[-step:].index)])\n"
          ]
        },
        {
          "output_type": "stream",
          "name": "stdout",
          "text": [
            "training classifier for simulation 7\n"
          ]
        },
        {
          "output_type": "stream",
          "name": "stderr",
          "text": [
            "/tmp/ipython-input-2246050053.py:6: FutureWarning: Series.__getitem__ treating keys as positions is deprecated. In a future version, integer keys will always be treated as labels (consistent with DataFrame behavior). To access a value by position, use `ser.iloc[pos]`\n",
            "  ans = pd.concat([ans,pd.Series(times[-1], index=times[-step:].index)])\n"
          ]
        },
        {
          "output_type": "stream",
          "name": "stdout",
          "text": [
            "training classifier for simulation 8\n"
          ]
        },
        {
          "output_type": "stream",
          "name": "stderr",
          "text": [
            "/tmp/ipython-input-2246050053.py:6: FutureWarning: Series.__getitem__ treating keys as positions is deprecated. In a future version, integer keys will always be treated as labels (consistent with DataFrame behavior). To access a value by position, use `ser.iloc[pos]`\n",
            "  ans = pd.concat([ans,pd.Series(times[-1], index=times[-step:].index)])\n"
          ]
        },
        {
          "output_type": "stream",
          "name": "stdout",
          "text": [
            "training classifier for simulation 9\n"
          ]
        },
        {
          "output_type": "stream",
          "name": "stderr",
          "text": [
            "/tmp/ipython-input-2246050053.py:6: FutureWarning: Series.__getitem__ treating keys as positions is deprecated. In a future version, integer keys will always be treated as labels (consistent with DataFrame behavior). To access a value by position, use `ser.iloc[pos]`\n",
            "  ans = pd.concat([ans,pd.Series(times[-1], index=times[-step:].index)])\n"
          ]
        },
        {
          "output_type": "stream",
          "name": "stdout",
          "text": [
            "training classifier for simulation 10\n"
          ]
        },
        {
          "output_type": "stream",
          "name": "stderr",
          "text": [
            "/tmp/ipython-input-2246050053.py:6: FutureWarning: Series.__getitem__ treating keys as positions is deprecated. In a future version, integer keys will always be treated as labels (consistent with DataFrame behavior). To access a value by position, use `ser.iloc[pos]`\n",
            "  ans = pd.concat([ans,pd.Series(times[-1], index=times[-step:].index)])\n"
          ]
        },
        {
          "output_type": "stream",
          "name": "stdout",
          "text": [
            "training classifier for simulation 11\n"
          ]
        },
        {
          "output_type": "stream",
          "name": "stderr",
          "text": [
            "/tmp/ipython-input-2246050053.py:6: FutureWarning: Series.__getitem__ treating keys as positions is deprecated. In a future version, integer keys will always be treated as labels (consistent with DataFrame behavior). To access a value by position, use `ser.iloc[pos]`\n",
            "  ans = pd.concat([ans,pd.Series(times[-1], index=times[-step:].index)])\n"
          ]
        },
        {
          "output_type": "stream",
          "name": "stdout",
          "text": [
            "training classifier for simulation 12\n"
          ]
        },
        {
          "output_type": "stream",
          "name": "stderr",
          "text": [
            "/tmp/ipython-input-2246050053.py:6: FutureWarning: Series.__getitem__ treating keys as positions is deprecated. In a future version, integer keys will always be treated as labels (consistent with DataFrame behavior). To access a value by position, use `ser.iloc[pos]`\n",
            "  ans = pd.concat([ans,pd.Series(times[-1], index=times[-step:].index)])\n"
          ]
        },
        {
          "output_type": "stream",
          "name": "stdout",
          "text": [
            "training classifier for simulation 13\n"
          ]
        },
        {
          "output_type": "stream",
          "name": "stderr",
          "text": [
            "/tmp/ipython-input-2246050053.py:6: FutureWarning: Series.__getitem__ treating keys as positions is deprecated. In a future version, integer keys will always be treated as labels (consistent with DataFrame behavior). To access a value by position, use `ser.iloc[pos]`\n",
            "  ans = pd.concat([ans,pd.Series(times[-1], index=times[-step:].index)])\n"
          ]
        },
        {
          "output_type": "stream",
          "name": "stdout",
          "text": [
            "training classifier for simulation 14\n"
          ]
        }
      ]
    },
    {
      "cell_type": "code",
      "source": [
        "backtest_paths = np.full((X.shape[0], paths.shape[1]), np.nan)\n",
        "old_signal = data['signal_mh'].loc[X.index]\n",
        "ret = data['returns'].loc[X.index]\n",
        "\n",
        "for p in range(paths.shape[1]):\n",
        "    for t, k in enumerate(paths[:, p]):\n",
        "        backtest_paths[t, p] = (bool(pred[t, int(k)]) & bool(old_signal[t])) * ret[t]\n",
        "\n",
        "perf_list = []\n",
        "for s in range(paths.shape[1]):\n",
        "    perf_table = perf_func(backtest_paths[:, s])\n",
        "    perf_list.append(perf_table)\n",
        "\n",
        "perf_paths = pd.concat(perf_list, axis=1)\n",
        "perf_paths"
      ],
      "metadata": {
        "colab": {
          "base_uri": "https://localhost:8080/",
          "height": 513
        },
        "id": "Ai0Du3Rmg5PK",
        "outputId": "ab92b3ae-cb35-46b6-a2a9-7690d9c1bfbd"
      },
      "execution_count": 59,
      "outputs": [
        {
          "output_type": "stream",
          "name": "stderr",
          "text": [
            "/tmp/ipython-input-2866909641.py:7: FutureWarning: Series.__getitem__ treating keys as positions is deprecated. In a future version, integer keys will always be treated as labels (consistent with DataFrame behavior). To access a value by position, use `ser.iloc[pos]`\n",
            "  backtest_paths[t, p] = (bool(pred[t, int(k)]) & bool(old_signal[t])) * ret[t]\n"
          ]
        },
        {
          "output_type": "execute_result",
          "data": {
            "text/plain": [
              "                                0             1             2             3  \\\n",
              "Annual return        8.284984e+00  1.676431e+00  6.390893e+01  7.442615e+00   \n",
              "Cumulative returns   7.453825e+15  1.028628e+07  5.287268e+29  1.566599e+15   \n",
              "Annual volatility    1.752275e+00  1.795178e+00  2.327340e+00  2.002202e+00   \n",
              "Sharpe ratio         2.047069e+00  1.356378e+00  2.795711e+00  1.945367e+00   \n",
              "Calmar ratio         8.284984e+00  1.676431e+00  6.390893e+01  7.442615e+00   \n",
              "Stability            8.842492e-01  5.566906e-01  9.339851e-01  8.511785e-01   \n",
              "Max drawdown        -1.000000e+00 -1.000000e+00 -1.000000e+00 -9.999999e-01   \n",
              "Omega ratio          2.066740e+00  1.573067e+00  2.272186e+00  1.847549e+00   \n",
              "Sortino ratio        4.337597e+00  2.589671e+00  6.401754e+00  4.055324e+00   \n",
              "Skew                 2.639464e+00  2.384816e+00  2.405533e+00  2.430901e+00   \n",
              "Kurtosis             1.792153e+01  1.658829e+01  1.247155e+01  1.426911e+01   \n",
              "Tail ratio           2.057750e+00  1.424517e+00  1.880846e+00  1.722650e+00   \n",
              "Daily value at risk -2.065050e-01 -2.164814e-01 -2.673621e-01 -2.367668e-01   \n",
              "\n",
              "                                4  \n",
              "Annual return        2.462217e+00  \n",
              "Cumulative returns   7.011943e+08  \n",
              "Annual volatility    2.097464e+00  \n",
              "Sharpe ratio         1.489158e+00  \n",
              "Calmar ratio         2.462217e+00  \n",
              "Stability            6.171223e-01  \n",
              "Max drawdown        -1.000000e+00  \n",
              "Omega ratio          1.572004e+00  \n",
              "Sortino ratio        3.078094e+00  \n",
              "Skew                 2.857446e+00  \n",
              "Kurtosis             1.855815e+01  \n",
              "Tail ratio           1.573319e+00  \n",
              "Daily value at risk -2.518290e-01  "
            ],
            "text/html": [
              "\n",
              "  <div id=\"df-a671575b-8908-4b67-8fe6-d68307bc9134\" class=\"colab-df-container\">\n",
              "    <div>\n",
              "<style scoped>\n",
              "    .dataframe tbody tr th:only-of-type {\n",
              "        vertical-align: middle;\n",
              "    }\n",
              "\n",
              "    .dataframe tbody tr th {\n",
              "        vertical-align: top;\n",
              "    }\n",
              "\n",
              "    .dataframe thead th {\n",
              "        text-align: right;\n",
              "    }\n",
              "</style>\n",
              "<table border=\"1\" class=\"dataframe\">\n",
              "  <thead>\n",
              "    <tr style=\"text-align: right;\">\n",
              "      <th></th>\n",
              "      <th>0</th>\n",
              "      <th>1</th>\n",
              "      <th>2</th>\n",
              "      <th>3</th>\n",
              "      <th>4</th>\n",
              "    </tr>\n",
              "  </thead>\n",
              "  <tbody>\n",
              "    <tr>\n",
              "      <th>Annual return</th>\n",
              "      <td>8.284984e+00</td>\n",
              "      <td>1.676431e+00</td>\n",
              "      <td>6.390893e+01</td>\n",
              "      <td>7.442615e+00</td>\n",
              "      <td>2.462217e+00</td>\n",
              "    </tr>\n",
              "    <tr>\n",
              "      <th>Cumulative returns</th>\n",
              "      <td>7.453825e+15</td>\n",
              "      <td>1.028628e+07</td>\n",
              "      <td>5.287268e+29</td>\n",
              "      <td>1.566599e+15</td>\n",
              "      <td>7.011943e+08</td>\n",
              "    </tr>\n",
              "    <tr>\n",
              "      <th>Annual volatility</th>\n",
              "      <td>1.752275e+00</td>\n",
              "      <td>1.795178e+00</td>\n",
              "      <td>2.327340e+00</td>\n",
              "      <td>2.002202e+00</td>\n",
              "      <td>2.097464e+00</td>\n",
              "    </tr>\n",
              "    <tr>\n",
              "      <th>Sharpe ratio</th>\n",
              "      <td>2.047069e+00</td>\n",
              "      <td>1.356378e+00</td>\n",
              "      <td>2.795711e+00</td>\n",
              "      <td>1.945367e+00</td>\n",
              "      <td>1.489158e+00</td>\n",
              "    </tr>\n",
              "    <tr>\n",
              "      <th>Calmar ratio</th>\n",
              "      <td>8.284984e+00</td>\n",
              "      <td>1.676431e+00</td>\n",
              "      <td>6.390893e+01</td>\n",
              "      <td>7.442615e+00</td>\n",
              "      <td>2.462217e+00</td>\n",
              "    </tr>\n",
              "    <tr>\n",
              "      <th>Stability</th>\n",
              "      <td>8.842492e-01</td>\n",
              "      <td>5.566906e-01</td>\n",
              "      <td>9.339851e-01</td>\n",
              "      <td>8.511785e-01</td>\n",
              "      <td>6.171223e-01</td>\n",
              "    </tr>\n",
              "    <tr>\n",
              "      <th>Max drawdown</th>\n",
              "      <td>-1.000000e+00</td>\n",
              "      <td>-1.000000e+00</td>\n",
              "      <td>-1.000000e+00</td>\n",
              "      <td>-9.999999e-01</td>\n",
              "      <td>-1.000000e+00</td>\n",
              "    </tr>\n",
              "    <tr>\n",
              "      <th>Omega ratio</th>\n",
              "      <td>2.066740e+00</td>\n",
              "      <td>1.573067e+00</td>\n",
              "      <td>2.272186e+00</td>\n",
              "      <td>1.847549e+00</td>\n",
              "      <td>1.572004e+00</td>\n",
              "    </tr>\n",
              "    <tr>\n",
              "      <th>Sortino ratio</th>\n",
              "      <td>4.337597e+00</td>\n",
              "      <td>2.589671e+00</td>\n",
              "      <td>6.401754e+00</td>\n",
              "      <td>4.055324e+00</td>\n",
              "      <td>3.078094e+00</td>\n",
              "    </tr>\n",
              "    <tr>\n",
              "      <th>Skew</th>\n",
              "      <td>2.639464e+00</td>\n",
              "      <td>2.384816e+00</td>\n",
              "      <td>2.405533e+00</td>\n",
              "      <td>2.430901e+00</td>\n",
              "      <td>2.857446e+00</td>\n",
              "    </tr>\n",
              "    <tr>\n",
              "      <th>Kurtosis</th>\n",
              "      <td>1.792153e+01</td>\n",
              "      <td>1.658829e+01</td>\n",
              "      <td>1.247155e+01</td>\n",
              "      <td>1.426911e+01</td>\n",
              "      <td>1.855815e+01</td>\n",
              "    </tr>\n",
              "    <tr>\n",
              "      <th>Tail ratio</th>\n",
              "      <td>2.057750e+00</td>\n",
              "      <td>1.424517e+00</td>\n",
              "      <td>1.880846e+00</td>\n",
              "      <td>1.722650e+00</td>\n",
              "      <td>1.573319e+00</td>\n",
              "    </tr>\n",
              "    <tr>\n",
              "      <th>Daily value at risk</th>\n",
              "      <td>-2.065050e-01</td>\n",
              "      <td>-2.164814e-01</td>\n",
              "      <td>-2.673621e-01</td>\n",
              "      <td>-2.367668e-01</td>\n",
              "      <td>-2.518290e-01</td>\n",
              "    </tr>\n",
              "  </tbody>\n",
              "</table>\n",
              "</div>\n",
              "    <div class=\"colab-df-buttons\">\n",
              "\n",
              "  <div class=\"colab-df-container\">\n",
              "    <button class=\"colab-df-convert\" onclick=\"convertToInteractive('df-a671575b-8908-4b67-8fe6-d68307bc9134')\"\n",
              "            title=\"Convert this dataframe to an interactive table.\"\n",
              "            style=\"display:none;\">\n",
              "\n",
              "  <svg xmlns=\"http://www.w3.org/2000/svg\" height=\"24px\" viewBox=\"0 -960 960 960\">\n",
              "    <path d=\"M120-120v-720h720v720H120Zm60-500h600v-160H180v160Zm220 220h160v-160H400v160Zm0 220h160v-160H400v160ZM180-400h160v-160H180v160Zm440 0h160v-160H620v160ZM180-180h160v-160H180v160Zm440 0h160v-160H620v160Z\"/>\n",
              "  </svg>\n",
              "    </button>\n",
              "\n",
              "  <style>\n",
              "    .colab-df-container {\n",
              "      display:flex;\n",
              "      gap: 12px;\n",
              "    }\n",
              "\n",
              "    .colab-df-convert {\n",
              "      background-color: #E8F0FE;\n",
              "      border: none;\n",
              "      border-radius: 50%;\n",
              "      cursor: pointer;\n",
              "      display: none;\n",
              "      fill: #1967D2;\n",
              "      height: 32px;\n",
              "      padding: 0 0 0 0;\n",
              "      width: 32px;\n",
              "    }\n",
              "\n",
              "    .colab-df-convert:hover {\n",
              "      background-color: #E2EBFA;\n",
              "      box-shadow: 0px 1px 2px rgba(60, 64, 67, 0.3), 0px 1px 3px 1px rgba(60, 64, 67, 0.15);\n",
              "      fill: #174EA6;\n",
              "    }\n",
              "\n",
              "    .colab-df-buttons div {\n",
              "      margin-bottom: 4px;\n",
              "    }\n",
              "\n",
              "    [theme=dark] .colab-df-convert {\n",
              "      background-color: #3B4455;\n",
              "      fill: #D2E3FC;\n",
              "    }\n",
              "\n",
              "    [theme=dark] .colab-df-convert:hover {\n",
              "      background-color: #434B5C;\n",
              "      box-shadow: 0px 1px 3px 1px rgba(0, 0, 0, 0.15);\n",
              "      filter: drop-shadow(0px 1px 2px rgba(0, 0, 0, 0.3));\n",
              "      fill: #FFFFFF;\n",
              "    }\n",
              "  </style>\n",
              "\n",
              "    <script>\n",
              "      const buttonEl =\n",
              "        document.querySelector('#df-a671575b-8908-4b67-8fe6-d68307bc9134 button.colab-df-convert');\n",
              "      buttonEl.style.display =\n",
              "        google.colab.kernel.accessAllowed ? 'block' : 'none';\n",
              "\n",
              "      async function convertToInteractive(key) {\n",
              "        const element = document.querySelector('#df-a671575b-8908-4b67-8fe6-d68307bc9134');\n",
              "        const dataTable =\n",
              "          await google.colab.kernel.invokeFunction('convertToInteractive',\n",
              "                                                    [key], {});\n",
              "        if (!dataTable) return;\n",
              "\n",
              "        const docLinkHtml = 'Like what you see? Visit the ' +\n",
              "          '<a target=\"_blank\" href=https://colab.research.google.com/notebooks/data_table.ipynb>data table notebook</a>'\n",
              "          + ' to learn more about interactive tables.';\n",
              "        element.innerHTML = '';\n",
              "        dataTable['output_type'] = 'display_data';\n",
              "        await google.colab.output.renderOutput(dataTable, element);\n",
              "        const docLink = document.createElement('div');\n",
              "        docLink.innerHTML = docLinkHtml;\n",
              "        element.appendChild(docLink);\n",
              "      }\n",
              "    </script>\n",
              "  </div>\n",
              "\n",
              "\n",
              "    <div id=\"df-aaf4dae2-6969-4a75-8c4a-a2e5d40b2327\">\n",
              "      <button class=\"colab-df-quickchart\" onclick=\"quickchart('df-aaf4dae2-6969-4a75-8c4a-a2e5d40b2327')\"\n",
              "                title=\"Suggest charts\"\n",
              "                style=\"display:none;\">\n",
              "\n",
              "<svg xmlns=\"http://www.w3.org/2000/svg\" height=\"24px\"viewBox=\"0 0 24 24\"\n",
              "     width=\"24px\">\n",
              "    <g>\n",
              "        <path d=\"M19 3H5c-1.1 0-2 .9-2 2v14c0 1.1.9 2 2 2h14c1.1 0 2-.9 2-2V5c0-1.1-.9-2-2-2zM9 17H7v-7h2v7zm4 0h-2V7h2v10zm4 0h-2v-4h2v4z\"/>\n",
              "    </g>\n",
              "</svg>\n",
              "      </button>\n",
              "\n",
              "<style>\n",
              "  .colab-df-quickchart {\n",
              "      --bg-color: #E8F0FE;\n",
              "      --fill-color: #1967D2;\n",
              "      --hover-bg-color: #E2EBFA;\n",
              "      --hover-fill-color: #174EA6;\n",
              "      --disabled-fill-color: #AAA;\n",
              "      --disabled-bg-color: #DDD;\n",
              "  }\n",
              "\n",
              "  [theme=dark] .colab-df-quickchart {\n",
              "      --bg-color: #3B4455;\n",
              "      --fill-color: #D2E3FC;\n",
              "      --hover-bg-color: #434B5C;\n",
              "      --hover-fill-color: #FFFFFF;\n",
              "      --disabled-bg-color: #3B4455;\n",
              "      --disabled-fill-color: #666;\n",
              "  }\n",
              "\n",
              "  .colab-df-quickchart {\n",
              "    background-color: var(--bg-color);\n",
              "    border: none;\n",
              "    border-radius: 50%;\n",
              "    cursor: pointer;\n",
              "    display: none;\n",
              "    fill: var(--fill-color);\n",
              "    height: 32px;\n",
              "    padding: 0;\n",
              "    width: 32px;\n",
              "  }\n",
              "\n",
              "  .colab-df-quickchart:hover {\n",
              "    background-color: var(--hover-bg-color);\n",
              "    box-shadow: 0 1px 2px rgba(60, 64, 67, 0.3), 0 1px 3px 1px rgba(60, 64, 67, 0.15);\n",
              "    fill: var(--button-hover-fill-color);\n",
              "  }\n",
              "\n",
              "  .colab-df-quickchart-complete:disabled,\n",
              "  .colab-df-quickchart-complete:disabled:hover {\n",
              "    background-color: var(--disabled-bg-color);\n",
              "    fill: var(--disabled-fill-color);\n",
              "    box-shadow: none;\n",
              "  }\n",
              "\n",
              "  .colab-df-spinner {\n",
              "    border: 2px solid var(--fill-color);\n",
              "    border-color: transparent;\n",
              "    border-bottom-color: var(--fill-color);\n",
              "    animation:\n",
              "      spin 1s steps(1) infinite;\n",
              "  }\n",
              "\n",
              "  @keyframes spin {\n",
              "    0% {\n",
              "      border-color: transparent;\n",
              "      border-bottom-color: var(--fill-color);\n",
              "      border-left-color: var(--fill-color);\n",
              "    }\n",
              "    20% {\n",
              "      border-color: transparent;\n",
              "      border-left-color: var(--fill-color);\n",
              "      border-top-color: var(--fill-color);\n",
              "    }\n",
              "    30% {\n",
              "      border-color: transparent;\n",
              "      border-left-color: var(--fill-color);\n",
              "      border-top-color: var(--fill-color);\n",
              "      border-right-color: var(--fill-color);\n",
              "    }\n",
              "    40% {\n",
              "      border-color: transparent;\n",
              "      border-right-color: var(--fill-color);\n",
              "      border-top-color: var(--fill-color);\n",
              "    }\n",
              "    60% {\n",
              "      border-color: transparent;\n",
              "      border-right-color: var(--fill-color);\n",
              "    }\n",
              "    80% {\n",
              "      border-color: transparent;\n",
              "      border-right-color: var(--fill-color);\n",
              "      border-bottom-color: var(--fill-color);\n",
              "    }\n",
              "    90% {\n",
              "      border-color: transparent;\n",
              "      border-bottom-color: var(--fill-color);\n",
              "    }\n",
              "  }\n",
              "</style>\n",
              "\n",
              "      <script>\n",
              "        async function quickchart(key) {\n",
              "          const quickchartButtonEl =\n",
              "            document.querySelector('#' + key + ' button');\n",
              "          quickchartButtonEl.disabled = true;  // To prevent multiple clicks.\n",
              "          quickchartButtonEl.classList.add('colab-df-spinner');\n",
              "          try {\n",
              "            const charts = await google.colab.kernel.invokeFunction(\n",
              "                'suggestCharts', [key], {});\n",
              "          } catch (error) {\n",
              "            console.error('Error during call to suggestCharts:', error);\n",
              "          }\n",
              "          quickchartButtonEl.classList.remove('colab-df-spinner');\n",
              "          quickchartButtonEl.classList.add('colab-df-quickchart-complete');\n",
              "        }\n",
              "        (() => {\n",
              "          let quickchartButtonEl =\n",
              "            document.querySelector('#df-aaf4dae2-6969-4a75-8c4a-a2e5d40b2327 button');\n",
              "          quickchartButtonEl.style.display =\n",
              "            google.colab.kernel.accessAllowed ? 'block' : 'none';\n",
              "        })();\n",
              "      </script>\n",
              "    </div>\n",
              "\n",
              "  <div id=\"id_6ed140cc-0b7e-499e-95e8-c7530d770f23\">\n",
              "    <style>\n",
              "      .colab-df-generate {\n",
              "        background-color: #E8F0FE;\n",
              "        border: none;\n",
              "        border-radius: 50%;\n",
              "        cursor: pointer;\n",
              "        display: none;\n",
              "        fill: #1967D2;\n",
              "        height: 32px;\n",
              "        padding: 0 0 0 0;\n",
              "        width: 32px;\n",
              "      }\n",
              "\n",
              "      .colab-df-generate:hover {\n",
              "        background-color: #E2EBFA;\n",
              "        box-shadow: 0px 1px 2px rgba(60, 64, 67, 0.3), 0px 1px 3px 1px rgba(60, 64, 67, 0.15);\n",
              "        fill: #174EA6;\n",
              "      }\n",
              "\n",
              "      [theme=dark] .colab-df-generate {\n",
              "        background-color: #3B4455;\n",
              "        fill: #D2E3FC;\n",
              "      }\n",
              "\n",
              "      [theme=dark] .colab-df-generate:hover {\n",
              "        background-color: #434B5C;\n",
              "        box-shadow: 0px 1px 3px 1px rgba(0, 0, 0, 0.15);\n",
              "        filter: drop-shadow(0px 1px 2px rgba(0, 0, 0, 0.3));\n",
              "        fill: #FFFFFF;\n",
              "      }\n",
              "    </style>\n",
              "    <button class=\"colab-df-generate\" onclick=\"generateWithVariable('perf_paths')\"\n",
              "            title=\"Generate code using this dataframe.\"\n",
              "            style=\"display:none;\">\n",
              "\n",
              "  <svg xmlns=\"http://www.w3.org/2000/svg\" height=\"24px\"viewBox=\"0 0 24 24\"\n",
              "       width=\"24px\">\n",
              "    <path d=\"M7,19H8.4L18.45,9,17,7.55,7,17.6ZM5,21V16.75L18.45,3.32a2,2,0,0,1,2.83,0l1.4,1.43a1.91,1.91,0,0,1,.58,1.4,1.91,1.91,0,0,1-.58,1.4L9.25,21ZM18.45,9,17,7.55Zm-12,3A5.31,5.31,0,0,0,4.9,8.1,5.31,5.31,0,0,0,1,6.5,5.31,5.31,0,0,0,4.9,4.9,5.31,5.31,0,0,0,6.5,1,5.31,5.31,0,0,0,8.1,4.9,5.31,5.31,0,0,0,12,6.5,5.46,5.46,0,0,0,6.5,12Z\"/>\n",
              "  </svg>\n",
              "    </button>\n",
              "    <script>\n",
              "      (() => {\n",
              "      const buttonEl =\n",
              "        document.querySelector('#id_6ed140cc-0b7e-499e-95e8-c7530d770f23 button.colab-df-generate');\n",
              "      buttonEl.style.display =\n",
              "        google.colab.kernel.accessAllowed ? 'block' : 'none';\n",
              "\n",
              "      buttonEl.onclick = () => {\n",
              "        google.colab.notebook.generateWithVariable('perf_paths');\n",
              "      }\n",
              "      })();\n",
              "    </script>\n",
              "  </div>\n",
              "\n",
              "    </div>\n",
              "  </div>\n"
            ],
            "application/vnd.google.colaboratory.intrinsic+json": {
              "type": "dataframe",
              "variable_name": "perf_paths",
              "summary": "{\n  \"name\": \"perf_paths\",\n  \"rows\": 13,\n  \"fields\": [\n    {\n      \"column\": 0,\n      \"properties\": {\n        \"dtype\": \"number\",\n        \"std\": 2067319081074570.8,\n        \"min\": -0.9999999812218696,\n        \"max\": 7453824949559464.0,\n        \"num_unique_values\": 13,\n        \"samples\": [\n          2.0577498613264735,\n          2.6394635434184655,\n          8.284984117327722\n        ],\n        \"semantic_type\": \"\",\n        \"description\": \"\"\n      }\n    },\n    {\n      \"column\": 1,\n      \"properties\": {\n        \"dtype\": \"number\",\n        \"std\": 2852901.3095752406,\n        \"min\": -0.9999999999929298,\n        \"max\": 10286284.489249121,\n        \"num_unique_values\": 13,\n        \"samples\": [\n          1.4245166779907206,\n          2.3848158829326818,\n          1.6764309996487805\n        ],\n        \"semantic_type\": \"\",\n        \"description\": \"\"\n      }\n    },\n    {\n      \"column\": 2,\n      \"properties\": {\n        \"dtype\": \"number\",\n        \"std\": 1.4664243462906034e+29,\n        \"min\": -0.9999999973901535,\n        \"max\": 5.287268172139529e+29,\n        \"num_unique_values\": 13,\n        \"samples\": [\n          1.8808458697992525,\n          2.405533475264429,\n          63.90893019684788\n        ],\n        \"semantic_type\": \"\",\n        \"description\": \"\"\n      }\n    },\n    {\n      \"column\": 3,\n      \"properties\": {\n        \"dtype\": \"number\",\n        \"std\": 434496345755951.5,\n        \"min\": -0.9999999375108196,\n        \"max\": 1566598853624817.0,\n        \"num_unique_values\": 13,\n        \"samples\": [\n          1.7226497382828694,\n          2.430901463801557,\n          7.442614941502642\n        ],\n        \"semantic_type\": \"\",\n        \"description\": \"\"\n      }\n    },\n    {\n      \"column\": 4,\n      \"properties\": {\n        \"dtype\": \"number\",\n        \"std\": 194476318.7642309,\n        \"min\": -0.9999999990873134,\n        \"max\": 701194342.1275271,\n        \"num_unique_values\": 13,\n        \"samples\": [\n          1.573318852359717,\n          2.857445833000874,\n          2.462217038446559\n        ],\n        \"semantic_type\": \"\",\n        \"description\": \"\"\n      }\n    }\n  ]\n}"
            }
          },
          "metadata": {},
          "execution_count": 59
        }
      ]
    },
    {
      "cell_type": "code",
      "source": [
        "perf_paths.loc['Sharpe ratio', :].mean()"
      ],
      "metadata": {
        "colab": {
          "base_uri": "https://localhost:8080/"
        },
        "id": "QY-oz5Pchyxd",
        "outputId": "f8c5a2cc-042c-43b6-8cad-64e7b93ed778"
      },
      "execution_count": 61,
      "outputs": [
        {
          "output_type": "execute_result",
          "data": {
            "text/plain": [
              "np.float64(1.926736685090706)"
            ]
          },
          "metadata": {},
          "execution_count": 61
        }
      ]
    },
    {
      "cell_type": "code",
      "source": [
        "perf_paths.loc['Sharpe ratio', :].std()"
      ],
      "metadata": {
        "colab": {
          "base_uri": "https://localhost:8080/"
        },
        "id": "iqnSfQygh7hp",
        "outputId": "fbdbe8fe-ea2d-4174-8917-b57d1d068408"
      },
      "execution_count": 62,
      "outputs": [
        {
          "output_type": "execute_result",
          "data": {
            "text/plain": [
              "0.5671700300614335"
            ]
          },
          "metadata": {},
          "execution_count": 62
        }
      ]
    },
    {
      "cell_type": "code",
      "source": [
        "perf_paths.loc['Sharpe ratio', :].hist()\n",
        "plt.show()"
      ],
      "metadata": {
        "colab": {
          "base_uri": "https://localhost:8080/",
          "height": 430
        },
        "id": "WLaj10Mqh9WU",
        "outputId": "0364b431-c218-4e00-ad15-a21c50c8e1e5"
      },
      "execution_count": 63,
      "outputs": [
        {
          "output_type": "display_data",
          "data": {
            "text/plain": [
              "<Figure size 640x480 with 1 Axes>"
            ],
            "image/png": "[encoded data removed]"
          },
          "metadata": {}
        }
      ]
    },
    {
      "cell_type": "code",
      "source": [
        "perf_paths.loc['Max drawdown', :].mean()"
      ],
      "metadata": {
        "colab": {
          "base_uri": "https://localhost:8080/"
        },
        "id": "3ZID7vHZiEfV",
        "outputId": "f5561a61-508b-481e-e0f6-718f7c1aac0c"
      },
      "execution_count": 64,
      "outputs": [
        {
          "output_type": "execute_result",
          "data": {
            "text/plain": [
              "np.float64(-0.9999999830406171)"
            ]
          },
          "metadata": {},
          "execution_count": 64
        }
      ]
    },
    {
      "cell_type": "code",
      "source": [
        "perf_paths.loc['Max drawdown', :].std()"
      ],
      "metadata": {
        "colab": {
          "base_uri": "https://localhost:8080/"
        },
        "id": "B5Fux7S6iKE5",
        "outputId": "d373dbef-e163-4775-97d8-ce3b1bc05e18"
      },
      "execution_count": 65,
      "outputs": [
        {
          "output_type": "execute_result",
          "data": {
            "text/plain": [
              "2.6585037450382636e-08"
            ]
          },
          "metadata": {},
          "execution_count": 65
        }
      ]
    },
    {
      "cell_type": "code",
      "source": [
        "perf_paths.loc['Max drawdown', :].hist()\n",
        "plt.show()"
      ],
      "metadata": {
        "colab": {
          "base_uri": "https://localhost:8080/",
          "height": 448
        },
        "id": "cV-GRSYkiMr0",
        "outputId": "fc530e14-ae43-44cb-cd3d-a3536019f124"
      },
      "execution_count": 66,
      "outputs": [
        {
          "output_type": "display_data",
          "data": {
            "text/plain": [
              "<Figure size 640x480 with 1 Axes>"
            ],
            "image/png": "[encoded data removed]"
          },
          "metadata": {}
        }
      ]
    }
  ]
}